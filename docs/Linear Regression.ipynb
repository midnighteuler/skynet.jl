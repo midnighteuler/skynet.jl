{
 "metadata": {
  "language": "Julia",
  "name": ""
 },
 "nbformat": 3,
 "nbformat_minor": 0,
 "worksheets": [
  {
   "cells": [
    {
     "cell_type": "code",
     "collapsed": false,
     "input": [
      "Pkg.add(\"PyCall\")"
     ],
     "language": "python",
     "metadata": {},
     "outputs": [
      {
       "output_type": "stream",
       "stream": "stderr",
       "text": [
        "INFO: No packages to install, update or remove."
       ]
      },
      {
       "output_type": "stream",
       "stream": "stderr",
       "text": [
        "\n",
        "INFO: REQUIRE updated.\n"
       ]
      }
     ],
     "prompt_number": 3
    },
    {
     "cell_type": "code",
     "collapsed": false,
     "input": [
      "using PyPlot\n",
      "\n",
      "x = linspace(0,2*pi,1000); y = sin(3*x + 4*cos(2*x));\n",
      "plot(x, y, color=\"red\", linewidth=2.0, linestyle=\"--\")\n",
      "title(\"A sinusoidally modulated sinusoid\")"
     ],
     "language": "python",
     "metadata": {},
     "outputs": [
      {
       "ename": "LoadError",
       "evalue": "could not load module python: python: cannot open shared object file: No such file or directory\nat /home/msouza/.julia/PyPlot/src/PyPlot.jl:32\nat In[2]:1",
       "output_type": "pyerr",
       "traceback": [
        "could not load module python: python: cannot open shared object file: No such file or directory\nat /home/msouza/.julia/PyPlot/src/PyPlot.jl:32\nat In[2]:1",
        " in pyinitialize at /home/msouza/.julia/PyCall/src/PyCall.jl:365",
        " in pyimport at /home/msouza/.julia/PyCall/src/PyCall.jl:105",
        " in include at boot.jl:238"
       ]
      }
     ],
     "prompt_number": 2
    },
    {
     "cell_type": "code",
     "collapsed": false,
     "input": [
      "using PyCall"
     ],
     "language": "python",
     "metadata": {},
     "outputs": [],
     "prompt_number": 1
    },
    {
     "cell_type": "code",
     "collapsed": false,
     "input": [
      "@pyimport math"
     ],
     "language": "python",
     "metadata": {},
     "outputs": [
      {
       "ename": "LoadError",
       "evalue": "could not load module python: python: cannot open shared object file: No such file or directory\nat In[2]:643",
       "output_type": "pyerr",
       "traceback": [
        "could not load module python: python: cannot open shared object file: No such file or directory\nat In[2]:643",
        " in pyinitialize at /home/msouza/.julia/PyCall/src/PyCall.jl:365",
        " in pyimport at /home/msouza/.julia/PyCall/src/PyCall.jl:105"
       ]
      }
     ],
     "prompt_number": 2
    },
    {
     "cell_type": "code",
     "collapsed": false,
     "input": [],
     "language": "python",
     "metadata": {},
     "outputs": []
    }
   ],
   "metadata": {}
  }
 ]
}