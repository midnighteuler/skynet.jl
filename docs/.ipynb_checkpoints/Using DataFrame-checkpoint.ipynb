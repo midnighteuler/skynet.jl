{
 "metadata": {
  "language": "Julia",
  "name": ""
 },
 "nbformat": 3,
 "nbformat_minor": 0,
 "worksheets": [
  {
   "cells": [
    {
     "cell_type": "markdown",
     "metadata": {},
     "source": [
      "Intention: Want to become familiar with the DataFrames in Julia.<br>\n",
      "http://juliastats.github.io/DataFrames.jl/introduction.html"
     ]
    },
    {
     "cell_type": "markdown",
     "metadata": {},
     "source": [
      "# Basics:"
     ]
    },
    {
     "cell_type": "code",
     "collapsed": false,
     "input": [
      "#Pkg.add(\"DataFrames\")\n",
      "using DataFrames"
     ],
     "language": "python",
     "metadata": {},
     "outputs": [],
     "prompt_number": 2
    },
    {
     "cell_type": "markdown",
     "metadata": {},
     "source": [
      "DataFrames gives a \"NA\" value representing missing values."
     ]
    },
    {
     "cell_type": "code",
     "collapsed": false,
     "input": [
      "println(DataFrames.NA)\n",
      "println(typeof(NA))"
     ],
     "language": "python",
     "metadata": {},
     "outputs": [
      {
       "output_type": "stream",
       "stream": "stdout",
       "text": [
        "NA\n"
       ]
      },
      {
       "output_type": "stream",
       "stream": "stdout",
       "text": [
        "NAtype\n"
       ]
      }
     ],
     "prompt_number": 23
    },
    {
     "cell_type": "code",
     "collapsed": false,
     "input": [
      "false && NA"
     ],
     "language": "python",
     "metadata": {},
     "outputs": [
      {
       "metadata": {},
       "output_type": "pyout",
       "prompt_number": 9,
       "text": [
        "false"
       ]
      }
     ],
     "prompt_number": 9
    },
    {
     "cell_type": "code",
     "collapsed": false,
     "input": [
      "true && NA"
     ],
     "language": "python",
     "metadata": {},
     "outputs": [
      {
       "metadata": {},
       "output_type": "pyout",
       "prompt_number": 10,
       "text": [
        "NA"
       ]
      }
     ],
     "prompt_number": 10
    },
    {
     "cell_type": "code",
     "collapsed": false,
     "input": [
      "true || NA"
     ],
     "language": "python",
     "metadata": {},
     "outputs": [
      {
       "metadata": {},
       "output_type": "pyout",
       "prompt_number": 11,
       "text": [
        "true"
       ]
      }
     ],
     "prompt_number": 11
    },
    {
     "cell_type": "code",
     "collapsed": false,
     "input": [
      "1 + NA"
     ],
     "language": "python",
     "metadata": {},
     "outputs": [
      {
       "metadata": {},
       "output_type": "pyout",
       "prompt_number": 12,
       "text": [
        "NA"
       ]
      }
     ],
     "prompt_number": 12
    },
    {
     "cell_type": "code",
     "collapsed": false,
     "input": [
      "NA*2"
     ],
     "language": "python",
     "metadata": {},
     "outputs": [
      {
       "metadata": {},
       "output_type": "pyout",
       "prompt_number": 13,
       "text": [
        "NA"
       ]
      }
     ],
     "prompt_number": 13
    },
    {
     "cell_type": "code",
     "collapsed": false,
     "input": [
      "NA^2"
     ],
     "language": "python",
     "metadata": {},
     "outputs": [
      {
       "metadata": {},
       "output_type": "pyout",
       "prompt_number": 15,
       "text": [
        "NA"
       ]
      }
     ],
     "prompt_number": 15
    },
    {
     "cell_type": "code",
     "collapsed": false,
     "input": [
      "NA/0"
     ],
     "language": "python",
     "metadata": {},
     "outputs": [
      {
       "metadata": {},
       "output_type": "pyout",
       "prompt_number": 16,
       "text": [
        "NA"
       ]
      },
      {
       "output_type": "stream",
       "stream": "stderr",
       "text": [
        "WARNING: contains(collection, item) is deprecated, use in(item, collection) instead"
       ]
      },
      {
       "output_type": "stream",
       "stream": "stderr",
       "text": [
        "\n",
        " in contains at reduce.jl:238\n"
       ]
      }
     ],
     "prompt_number": 16
    },
    {
     "cell_type": "markdown",
     "metadata": {},
     "source": [
      "Next up: There's an Array type as julia's array doesn't handle NAs.<br>\n",
      "Also, there are DataVector and DataMatrix"
     ]
    },
    {
     "cell_type": "code",
     "collapsed": false,
     "input": [
      "dv = DataArray([1, 3, 2, 5, 4])\n",
      "dv[1] = NA\n",
      "\n",
      "dv"
     ],
     "language": "python",
     "metadata": {},
     "outputs": [
      {
       "metadata": {},
       "output_type": "pyout",
       "prompt_number": 25,
       "text": [
        "5-element DataArray{Int64,1}:\n",
        "  NA\n",
        " 3  \n",
        " 2  \n",
        " 5  \n",
        " 4  "
       ]
      }
     ],
     "prompt_number": 25
    },
    {
     "cell_type": "code",
     "collapsed": false,
     "input": [
      "mean(dv)"
     ],
     "language": "python",
     "metadata": {},
     "outputs": [
      {
       "metadata": {},
       "output_type": "pyout",
       "prompt_number": 26,
       "text": [
        "NA"
       ]
      }
     ],
     "prompt_number": 26
    },
    {
     "cell_type": "code",
     "collapsed": false,
     "input": [
      "mean(removeNA(dv))"
     ],
     "language": "python",
     "metadata": {},
     "outputs": [
      {
       "metadata": {},
       "output_type": "pyout",
       "prompt_number": 27,
       "text": [
        "3.5"
       ]
      }
     ],
     "prompt_number": 27
    },
    {
     "cell_type": "code",
     "collapsed": false,
     "input": [
      "mean(failNA(dv))"
     ],
     "language": "python",
     "metadata": {},
     "outputs": [
      {
       "ename": "LoadError",
       "evalue": "no method NAException()\nat In[28]:1",
       "output_type": "pyerr",
       "traceback": [
        "no method NAException()\nat In[28]:1",
        " in failNA at /home/msouza/.julia/DataFrames/src/dataarray.jl:178"
       ]
      }
     ],
     "prompt_number": 28
    },
    {
     "cell_type": "code",
     "collapsed": false,
     "input": [
      "mean(replaceNA(dv, 123))"
     ],
     "language": "python",
     "metadata": {},
     "outputs": [
      {
       "metadata": {},
       "output_type": "pyout",
       "prompt_number": 29,
       "text": [
        "27.4"
       ]
      }
     ],
     "prompt_number": 29
    },
    {
     "cell_type": "code",
     "collapsed": false,
     "input": [
      "dm = DataArray([1.0 0.0; 0.0 1.0])"
     ],
     "language": "python",
     "metadata": {},
     "outputs": [
      {
       "metadata": {},
       "output_type": "pyout",
       "prompt_number": 30,
       "text": [
        "2x2 DataArray{Float64,2}:\n",
        " 1.0  0.0\n",
        " 0.0  1.0"
       ]
      }
     ],
     "prompt_number": 30
    },
    {
     "cell_type": "code",
     "collapsed": false,
     "input": [
      "dm[1,1] = NA"
     ],
     "language": "python",
     "metadata": {},
     "outputs": [
      {
       "metadata": {},
       "output_type": "pyout",
       "prompt_number": 31,
       "text": [
        "NA"
       ]
      }
     ],
     "prompt_number": 31
    },
    {
     "cell_type": "code",
     "collapsed": false,
     "input": [
      "dm*dm"
     ],
     "language": "python",
     "metadata": {},
     "outputs": [
      {
       "metadata": {},
       "output_type": "pyout",
       "prompt_number": 32,
       "text": [
        "2x2 DataArray{Float64,2}:\n",
        " NA   NA\n",
        " NA  1.0"
       ]
      }
     ],
     "prompt_number": 32
    },
    {
     "cell_type": "code",
     "collapsed": false,
     "input": [
      "removeNA(dm)"
     ],
     "language": "python",
     "metadata": {},
     "outputs": [
      {
       "metadata": {},
       "output_type": "pyout",
       "prompt_number": 33,
       "text": [
        "3-element Array{Float64,1}:\n",
        " 0.0\n",
        " 0.0\n",
        " 1.0"
       ]
      }
     ],
     "prompt_number": 33
    },
    {
     "cell_type": "markdown",
     "metadata": {},
     "source": [
      "DataFrame - Tabular data"
     ]
    },
    {
     "cell_type": "code",
     "collapsed": false,
     "input": [
      "df = DataFrame()\n",
      "df[\"A\"] = 1:4\n",
      "df"
     ],
     "language": "python",
     "metadata": {},
     "outputs": [
      {
       "metadata": {},
       "output_type": "pyout",
       "prompt_number": 34,
       "text": [
        "4x1 DataFrame:\n",
        "        A\n",
        "[1,]    1\n",
        "[2,]    2\n",
        "[3,]    3\n",
        "[4,]    4\n"
       ]
      }
     ],
     "prompt_number": 34
    },
    {
     "cell_type": "code",
     "collapsed": false,
     "input": [
      "df[\"B\"] = [\"B1\", \"B2\", \"B3\", \"B4\"]\n",
      "df"
     ],
     "language": "python",
     "metadata": {},
     "outputs": [
      {
       "metadata": {},
       "output_type": "pyout",
       "prompt_number": 35,
       "text": [
        "4x2 DataFrame:\n",
        "        A    B\n",
        "[1,]    1 \"B1\"\n",
        "[2,]    2 \"B2\"\n",
        "[3,]    3 \"B3\"\n",
        "[4,]    4 \"B4\"\n"
       ]
      }
     ],
     "prompt_number": 35
    },
    {
     "cell_type": "code",
     "collapsed": false,
     "input": [
      "df = DataFrame(A = 1:4, B = [\"M\", \"F\", \"F\", \"M\"])\n",
      "df"
     ],
     "language": "python",
     "metadata": {},
     "outputs": [
      {
       "metadata": {},
       "output_type": "pyout",
       "prompt_number": 36,
       "text": [
        "4x2 DataFrame:\n",
        "        A   B\n",
        "[1,]    1 \"M\"\n",
        "[2,]    2 \"F\"\n",
        "[3,]    3 \"F\"\n",
        "[4,]    4 \"M\"\n"
       ]
      }
     ],
     "prompt_number": 36
    },
    {
     "cell_type": "code",
     "collapsed": false,
     "input": [
      "size(df)"
     ],
     "language": "python",
     "metadata": {},
     "outputs": [
      {
       "metadata": {},
       "output_type": "pyout",
       "prompt_number": 37,
       "text": [
        "(4,2)"
       ]
      }
     ],
     "prompt_number": 37
    },
    {
     "cell_type": "code",
     "collapsed": false,
     "input": [
      "df[1:3, :]"
     ],
     "language": "python",
     "metadata": {},
     "outputs": [
      {
       "metadata": {},
       "output_type": "pyout",
       "prompt_number": 42,
       "text": [
        "3x2 DataFrame:\n",
        "        A   B\n",
        "[1,]    1 \"M\"\n",
        "[2,]    2 \"F\"\n",
        "[3,]    3 \"F\"\n"
       ]
      }
     ],
     "prompt_number": 42
    },
    {
     "cell_type": "code",
     "collapsed": false,
     "input": [
      "describe(df)"
     ],
     "language": "python",
     "metadata": {},
     "outputs": [
      {
       "output_type": "stream",
       "stream": "stdout",
       "text": [
        "A\n"
       ]
      },
      {
       "output_type": "stream",
       "stream": "stdout",
       "text": [
        "Min      1.0"
       ]
      },
      {
       "output_type": "stream",
       "stream": "stdout",
       "text": [
        "\n",
        "1st Qu.  1.75\n",
        "Median   2.5\n",
        "Mean     2.5\n",
        "3rd Qu.  3.25\n",
        "Max      4.0\n",
        "NAs      0\n",
        "NA%      0.0%\n",
        "\n",
        "B\n",
        "Length  4\n",
        "Type    ASCIIString\n",
        "NAs     0\n",
        "NA%     0.0%\n",
        "Unique  2"
       ]
      },
      {
       "output_type": "stream",
       "stream": "stdout",
       "text": [
        "\n",
        "\n"
       ]
      }
     ],
     "prompt_number": 44
    },
    {
     "cell_type": "code",
     "collapsed": false,
     "input": [
      "using RDatasets\n",
      "iris = RDatasets.data(\"datasets\", \"iris\")\n",
      "head(iris)"
     ],
     "language": "python",
     "metadata": {},
     "outputs": [
      {
       "metadata": {},
       "output_type": "pyout",
       "prompt_number": 47,
       "text": [
        "6x6 DataFrame:\n",
        "          Sepal.Length Sepal.Width Petal.Length Petal.Width  Species\n",
        "[1,]    1          5.1         3.5          1.4         0.2 \"setosa\"\n",
        "[2,]    2          4.9         3.0          1.4         0.2 \"setosa\"\n",
        "[3,]    3          4.7         3.2          1.3         0.2 \"setosa\"\n",
        "[4,]    4          4.6         3.1          1.5         0.2 \"setosa\"\n",
        "[5,]    5          5.0         3.6          1.4         0.2 \"setosa\"\n",
        "[6,]    6          5.4         3.9          1.7         0.4 \"setosa\"\n"
       ]
      }
     ],
     "prompt_number": 47
    },
    {
     "cell_type": "code",
     "collapsed": false,
     "input": [
      "describe(iris)"
     ],
     "language": "python",
     "metadata": {},
     "outputs": [
      {
       "output_type": "stream",
       "stream": "stdout",
       "text": [
        "\n",
        "Min      1.0"
       ]
      },
      {
       "output_type": "stream",
       "stream": "stdout",
       "text": [
        "\n",
        "1st Qu.  38.25\n",
        "Median   75.5\n",
        "Mean     75.5\n",
        "3rd Qu.  112.75\n",
        "Max      150.0\n",
        "NAs      0\n",
        "NA%      0.0%\n",
        "\n",
        "Sepal.Length\n",
        "Min      4.3\n",
        "1st Qu.  5.1\n",
        "Median   5.8\n",
        "Mean     5.843333333333332\n",
        "3rd Qu.  6.4\n",
        "Max      7.9\n",
        "NAs      0\n",
        "NA%      0.0%\n",
        "\n",
        "Sepal.Width\n",
        "Min      2.0\n",
        "1st Qu.  2.8\n",
        "Median   3.0\n",
        "Mean     3.0573333333333337\n",
        "3rd Qu.  3.3\n",
        "Max      4.4\n",
        "NAs      0\n",
        "NA%      0.0%\n",
        "\n",
        "Petal.Length\n",
        "Min      1.0\n",
        "1st Qu.  1.6\n",
        "Median   4.35\n",
        "Mean     3.758000000000001\n",
        "3rd Qu.  5.1\n",
        "Max      6.9\n",
        "NAs      0\n",
        "NA%      0.0%\n",
        "\n",
        "Petal.Width\n",
        "Min      0.1\n",
        "1st Qu.  0.3\n",
        "Median   1.3\n",
        "Mean     1.1993333333333331\n",
        "3rd Qu.  1.8\n",
        "Max      2.5\n",
        "NAs      0\n",
        "NA%      0.0%\n",
        "\n",
        "Species\n",
        "Length  150"
       ]
      },
      {
       "output_type": "stream",
       "stream": "stdout",
       "text": [
        "\n",
        "Type    UTF8String\n",
        "NAs     0\n",
        "NA%     0.0%\n",
        "Unique  3\n",
        "\n"
       ]
      }
     ],
     "prompt_number": 48
    },
    {
     "cell_type": "markdown",
     "metadata": {},
     "source": [
      "# I/O"
     ]
    },
    {
     "cell_type": "markdown",
     "metadata": {},
     "source": [
      "Let's get some data to play with."
     ]
    },
    {
     "cell_type": "code",
     "collapsed": false,
     "input": [
      "run(`wget http://www.cms.gov/Research-Statistics-Data-and-Systems/Statistics-Trends-and-Reports/Medicare-Provider-Charge-Data/Downloads/OPPS_APC_CSV.zip`)"
     ],
     "language": "python",
     "metadata": {},
     "outputs": [
      {
       "output_type": "stream",
       "stream": "stderr",
       "text": [
        "--2013-09-15 20:21:56--  http://www.cms.gov/Research-Statistics-Data-and-Systems/Statistics-Trends-and-Reports/Medicare-Provider-Charge-Data/Downloads/OPPS_APC_CSV.zip\n"
       ]
      },
      {
       "output_type": "stream",
       "stream": "stderr",
       "text": [
        "Resolving www.cms.gov (www.cms.gov)... 2607:f028:0:400:146:123:140:205, 146.123.140.205\n",
        "Connecting to www.cms.gov (www.cms.gov)|2607:f028:0:400:146:123:140:205|:80... "
       ]
      },
      {
       "output_type": "stream",
       "stream": "stderr",
       "text": [
        "connected.\n",
        "HTTP request sent, awaiting response... "
       ]
      },
      {
       "output_type": "stream",
       "stream": "stderr",
       "text": [
        "200 OK\n",
        "Length: 1967430 (1.9M) [application/x-zip-compressed]\n",
        "Saving to: `OPPS_APC_CSV.zip'\n",
        "\n",
        "     0K .."
       ]
      },
      {
       "output_type": "stream",
       "stream": "stderr",
       "text": [
        "........ .."
       ]
      },
      {
       "output_type": "stream",
       "stream": "stderr",
       "text": [
        "..."
       ]
      },
      {
       "output_type": "stream",
       "stream": "stderr",
       "text": [
        "..... .......... ...."
       ]
      },
      {
       "output_type": "stream",
       "stream": "stderr",
       "text": [
        "...... ..........  2%  128K 15s\n",
        "    50K .......... ......"
       ]
      },
      {
       "output_type": "stream",
       "stream": "stderr",
       "text": [
        ".... .......... .......... ..........  5%  436K 9s\n",
        "   100K ."
       ]
      },
      {
       "output_type": "stream",
       "stream": "stderr",
       "text": [
        "......... .......... .......... ....."
       ]
      },
      {
       "output_type": "stream",
       "stream": "stderr",
       "text": [
        "..... ..........  7%  280K 8s\n",
        "   150K .......... ....."
       ]
      },
      {
       "output_type": "stream",
       "stream": "stderr",
       "text": [
        "..... .......... .......... ........."
       ]
      },
      {
       "output_type": "stream",
       "stream": "stderr",
       "text": [
        ". 10%  319K 7s\n",
        "   200K .......... .......... ........."
       ]
      },
      {
       "output_type": "stream",
       "stream": "stderr",
       "text": [
        ". .......... .......... 13%  359K 7s\n",
        "   250K .........."
       ]
      },
      {
       "output_type": "stream",
       "stream": "stderr",
       "text": [
        " .......... .......... .......... ."
       ]
      },
      {
       "output_type": "stream",
       "stream": "stderr",
       "text": [
        "......... 15%  301K 6s\n",
        "   300K .......... .......... ..."
       ]
      },
      {
       "output_type": "stream",
       "stream": "stderr",
       "text": [
        "....... .......... .......... 18%  388K 6s\n",
        "   350K .."
       ]
      },
      {
       "output_type": "stream",
       "stream": "stderr",
       "text": [
        "........ .......... .......... ..."
       ]
      },
      {
       "output_type": "stream",
       "stream": "stderr",
       "text": [
        "....... .......... 20%  296K 5s\n",
        "   400K .......... ....."
       ]
      },
      {
       "output_type": "stream",
       "stream": "stderr",
       "text": [
        "..... .......... .......... .......... 23%  290K 5s\n",
        "   450K ."
       ]
      },
      {
       "output_type": "stream",
       "stream": "stderr",
       "text": [
        "......... .......... .......... ......"
       ]
      },
      {
       "output_type": "stream",
       "stream": "stderr",
       "text": [
        ".... .......... 26%  409K 5s\n",
        "   500K .......... ........."
       ]
      },
      {
       "output_type": "stream",
       "stream": "stderr",
       "text": [
        ". .......... .......... .......... 28%  287K 5s\n",
        "   550K ..."
       ]
      },
      {
       "output_type": "stream",
       "stream": "stderr",
       "text": [
        "....... .......... .......... ......"
       ]
      },
      {
       "output_type": "stream",
       "stream": "stderr",
       "text": [
        ".... .......... 31%  294K 5s\n",
        "   600K .......... .......... ...."
       ]
      },
      {
       "output_type": "stream",
       "stream": "stderr",
       "text": [
        "...... .......... ...."
       ]
      },
      {
       "output_type": "stream",
       "stream": "stderr",
       "text": [
        "...... 33%  335K 4s\n",
        "   650K .......... .......... .........."
       ]
      },
      {
       "output_type": "stream",
       "stream": "stderr",
       "text": [
        " .......... .......... 36%  280K 4s\n",
        "   700K .......... ....."
       ]
      },
      {
       "output_type": "stream",
       "stream": "stderr",
       "text": [
        "..... .......... .......... .......... 39%  429K 4s\n",
        "   750K ."
       ]
      },
      {
       "output_type": "stream",
       "stream": "stderr",
       "text": [
        "......... .......... .......... .."
       ]
      },
      {
       "output_type": "stream",
       "stream": "stderr",
       "text": [
        "........ .......... 41%  278K 4s\n",
        "   800K .......... .."
       ]
      },
      {
       "output_type": "stream",
       "stream": "stderr",
       "text": [
        "........ .......... .......... ..."
       ]
      },
      {
       "output_type": "stream",
       "stream": "stderr",
       "text": [
        "....... 44%  330K 4s\n",
        "   850K .......... .......... ...."
       ]
      },
      {
       "output_type": "stream",
       "stream": "stderr",
       "text": [
        "...... .......... .......... 46%  355K 3s\n",
        "   900K ...."
       ]
      },
      {
       "output_type": "stream",
       "stream": "stderr",
       "text": [
        "...... .......... .......... ........"
       ]
      },
      {
       "output_type": "stream",
       "stream": "stderr",
       "text": [
        ".. .......... 49%  283K 3s\n",
        "   950K .......... .......... ."
       ]
      },
      {
       "output_type": "stream",
       "stream": "stderr",
       "text": [
        "......... .......... .......... 52%  345K 3s\n",
        "  1000K ....."
       ]
      },
      {
       "output_type": "stream",
       "stream": "stderr",
       "text": [
        "..... .......... .......... ....."
       ]
      },
      {
       "output_type": "stream",
       "stream": "stderr",
       "text": [
        "..... .......... 54%  348K 3s\n",
        "  1050K .......... ........."
       ]
      },
      {
       "output_type": "stream",
       "stream": "stderr",
       "text": [
        ". .......... .......... .......... 57%  295K 3s\n",
        "  1100K .."
       ]
      },
      {
       "output_type": "stream",
       "stream": "stderr",
       "text": [
        "........ .......... .......... ......"
       ]
      },
      {
       "output_type": "stream",
       "stream": "stderr",
       "text": [
        ".... .......... 59%  407K 3s\n",
        "  1150K .......... .......... .."
       ]
      },
      {
       "output_type": "stream",
       "stream": "stderr",
       "text": [
        "........ .......... .......... 62%  282K 2s\n",
        "  1200K ........"
       ]
      },
      {
       "output_type": "stream",
       "stream": "stderr",
       "text": [
        ".. .......... .......... .......... .."
       ]
      },
      {
       "output_type": "stream",
       "stream": "stderr",
       "text": [
        "........ 65%  327K 2s\n",
        "  1250K .......... .......... .."
       ]
      },
      {
       "output_type": "stream",
       "stream": "stderr",
       "text": [
        "........ .......... .......... 67%  349K 2s\n",
        "  1300K .."
       ]
      },
      {
       "output_type": "stream",
       "stream": "stderr",
       "text": [
        "........ .......... .......... .."
       ]
      },
      {
       "output_type": "stream",
       "stream": "stderr",
       "text": [
        "........ .......... 70%  302K 2s\n",
        "  1350K .......... ......"
       ]
      },
      {
       "output_type": "stream",
       "stream": "stderr",
       "text": [
        ".... .......... .......... ........."
       ]
      },
      {
       "output_type": "stream",
       "stream": "stderr",
       "text": [
        ". 72%  299K 2s\n",
        "  1400K .......... .......... .......... ."
       ]
      },
      {
       "output_type": "stream",
       "stream": "stderr",
       "text": [
        "......... .......... 75%  380K 2s\n",
        "  1450K .......... ......"
       ]
      },
      {
       "output_type": "stream",
       "stream": "stderr",
       "text": [
        ".... .......... .......... .......... 78%  314K 1s"
       ]
      },
      {
       "output_type": "stream",
       "stream": "stderr",
       "text": [
        "\n",
        "  1500K .......... .......... .......... ..."
       ]
      },
      {
       "output_type": "stream",
       "stream": "stderr",
       "text": [
        "....... .......... 80%  305K 1s\n",
        "  1550K .......... ......."
       ]
      },
      {
       "output_type": "stream",
       "stream": "stderr",
       "text": [
        "... .......... .......... .......... 83%  369K 1s\n",
        "  1600K ..."
       ]
      },
      {
       "output_type": "stream",
       "stream": "stderr",
       "text": [
        "....... .......... .......... ......"
       ]
      },
      {
       "output_type": "stream",
       "stream": "stderr",
       "text": [
        ".... .......... 85%  310K 1s\n",
        "  1650K .......... .........."
       ]
      },
      {
       "output_type": "stream",
       "stream": "stderr",
       "text": [
        " .......... .......... .......... 88%  366K 1s\n",
        "  1700K ."
       ]
      },
      {
       "output_type": "stream",
       "stream": "stderr",
       "text": [
        "......... .......... .......... ."
       ]
      },
      {
       "output_type": "stream",
       "stream": "stderr",
       "text": [
        "......... .......... 91%  310K 1s\n",
        "  1750K .......... .."
       ]
      },
      {
       "output_type": "stream",
       "stream": "stderr",
       "text": [
        "........ .......... .......... ......."
       ]
      },
      {
       "output_type": "stream",
       "stream": "stderr",
       "text": [
        "... 93%  309K 0s\n",
        "  1800K .......... .......... .......... .."
       ]
      },
      {
       "output_type": "stream",
       "stream": "stderr",
       "text": [
        "........ .......... 96%  345K 0s\n",
        "  1850K .......... ......."
       ]
      },
      {
       "output_type": "stream",
       "stream": "stderr",
       "text": [
        "... .......... .......... .......... 98%  327K 0s\n",
        "  1900K ."
       ]
      },
      {
       "output_type": "stream",
       "stream": "stderr",
       "text": [
        "......... .......... .                               100%  311K=6.1s\n",
        "\n",
        "2013-09-15 20:22:03 (313 KB/s) - `OPPS_APC_CSV.zip' saved [1967430/1967430]\n",
        "\n"
       ]
      }
     ],
     "prompt_number": 52
    },
    {
     "cell_type": "code",
     "collapsed": false,
     "input": [
      "run(`unzip OPPS_APC_CSV`)"
     ],
     "language": "python",
     "metadata": {},
     "outputs": [
      {
       "output_type": "stream",
       "stream": "stdout",
       "text": [
        "Archive:  OPPS_APC_CSV.zip\n"
       ]
      },
      {
       "output_type": "stream",
       "stream": "stdout",
       "text": [
        "  inflating: Medicare_Provider_Charge_Outpatient_APC30_CY2011_v2.csv  \n"
       ]
      }
     ],
     "prompt_number": 53
    },
    {
     "cell_type": "code",
     "collapsed": false,
     "input": [
      "in_f = \"Medicare_Provider_Charge_Outpatient_APC30_CY2011_v2.csv\"\n"
     ],
     "language": "python",
     "metadata": {},
     "outputs": [
      {
       "metadata": {},
       "output_type": "pyout",
       "prompt_number": 62,
       "text": [
        "\"Medicare_Provider_Charge_Outpatient_APC30_CY2011_v2.csv\""
       ]
      }
     ],
     "prompt_number": 62
    },
    {
     "cell_type": "code",
     "collapsed": false,
     "input": [
      "medicare_df = DataFrames.readtable(in_f)\n",
      "head(medicare_df)"
     ],
     "language": "python",
     "metadata": {},
     "outputs": [
      {
       "metadata": {},
       "output_type": "pyout",
       "prompt_number": 65,
       "text": [
        "6x11 DataFrame:\n",
        "                                               APC Provider Id                                       Provider Name                  Provider Street Address Provider City Provider State Provider Zip Code Hospital Referral Region (HRR) Description Outpatient Services Average  Estimated Submitted Charges Average Total Payments\n",
        "[1,]    \"0012 - Level I Debridement & Destruction\"       10029               \"EAST ALABAMA MEDICAL CENTER AND SNF\"                 \"2000 PEPPERELL PARKWAY\"     \"OPELIKA\"           \"AL\"             36801                          \"AL - Birmingham\"                  23                               78.087                21.9104\n",
        "[2,]    \"0012 - Level I Debridement & Destruction\"       20024                \"CENTRAL PENINSULA GENERAL HOSPITAL\"                     \"250 HOSPITAL PLACE\"    \"SOLDOTNA\"           \"AK\"             99669                           \"AK - Anchorage\"                 994                               149.59                36.6239\n",
        "[3,]    \"0012 - Level I Debridement & Destruction\"       30064  \"UNIVERSITY OF ARIZONA MEDICAL CTR-UNIVERSIT, THE\"             \"1501 NORTH CAMPBELL AVENUE\"      \"TUCSON\"           \"AZ\"             85724                              \"AZ - Tucson\"                1765                              50.1354                14.5418\n",
        "[4,]    \"0012 - Level I Debridement & Destruction\"       30088                     \"BANNER BAYWOOD MEDICAL CENTER\"               \"6644 EAST BAYWOOD AVENUE\"        \"MESA\"           \"AZ\"             85206                                \"AZ - Mesa\"                  20                                112.4                 23.736\n",
        "[5,]    \"0012 - Level I Debridement & Destruction\"       30111 \"UNIVERSITY OF ARIZONA MEDICAL CTR- SOUTH CAM, THE\"                      \"2800 EAST AJO WAY\"      \"TUCSON\"           \"AZ\"             85713                              \"AZ - Tucson\"                  22                              152.045                16.5691\n",
        "[6,]    \"0012 - Level I Debridement & Destruction\"       40016                               \"UAMS MEDICAL CENTER\" \"4301 WEST MARKHAM STREET MAIL SLOT 612\" \"LITTLE ROCK\"           \"AR\"             72205                         \"AR - Little Rock\"                3166                              58.9547                13.5738\n"
       ]
      }
     ],
     "prompt_number": 65
    },
    {
     "cell_type": "code",
     "collapsed": false,
     "input": [
      "describe(medicare_df)"
     ],
     "language": "python",
     "metadata": {},
     "outputs": [
      {
       "output_type": "stream",
       "stream": "stdout",
       "text": [
        "APC\n"
       ]
      },
      {
       "output_type": "stream",
       "stream": "stdout",
       "text": [
        "Length  43372\n",
        "Type    UTF8String\n",
        "NAs     0\n",
        "NA%     0.0%\n",
        "Unique  30\n",
        "\n",
        "Provider Id\n",
        "Min      10001.0\n",
        "1st Qu.  140043.0\n",
        "Median   260091.0\n",
        "Mean     265410.9217467491\n",
        "3rd Qu.  390101.0\n",
        "Max      670061.0\n",
        "NAs      0\n",
        "NA%      0.0%\n",
        "\n",
        "Provider Name\n",
        "Length  43372\n",
        "Type    UTF8String\n",
        "NAs     0\n",
        "NA%     0.0%\n",
        "Unique  3007\n",
        "\n",
        "Provider Street Address\n",
        "Length  43372\n",
        "Type    UTF8String\n",
        "NAs     0\n",
        "NA%     0.0%\n",
        "Unique  3124\n",
        "\n",
        "Provider City\n",
        "Length  43372\n",
        "Type    UTF8String\n",
        "NAs     0\n",
        "NA%     0.0%\n",
        "Unique  1899\n",
        "\n",
        "Provider State\n",
        "Length  43372\n",
        "Type    UTF8String\n",
        "NAs     0\n",
        "NA%     0.0%\n",
        "Unique  50\n",
        "\n",
        "Provider Zip Code\n",
        "Min      1040.0\n",
        "1st Qu.  28645.0\n",
        "Median   46342.0\n",
        "Mean     49041.02243382828\n",
        "3rd Qu.  73101.0\n",
        "Max      99801.0\n",
        "NAs      0\n",
        "NA%      0.0%\n",
        "\n",
        "Hospital Referral Region (HRR) Description\n",
        "Length  43372\n",
        "Type    UTF8String\n",
        "NAs     0\n",
        "NA%     0.0%\n",
        "Unique  304\n",
        "\n",
        "Outpatient Services\n",
        "Min      11.0\n",
        "1st Qu.  42.0\n",
        "Median   128.0\n",
        "Mean     587.9809554551323\n",
        "3rd Qu.  347.0\n",
        "Max      219042.0\n",
        "NAs      0\n",
        "NA%      0.0%\n",
        "\n",
        "Average  Estimated Submitted Charges\n",
        "Min      12.64375\n",
        "1st Qu.  284.6104982\n",
        "Median   709.9951883\n",
        "Mean     1473.9940471990976\n",
        "3rd Qu.  2102.12134575\n",
        "Max      32105.63636\n",
        "NAs      0\n",
        "NA%      0.0%\n",
        "\n",
        "Average Total Payments\n",
        "Min      7.305"
       ]
      },
      {
       "output_type": "stream",
       "stream": "stdout",
       "text": [
        "\n",
        "1st Qu.  74.62771393\n",
        "Median   139.29856984999998\n",
        "Mean     265.4255857645218\n",
        "3rd Qu.  394.21131637499997\n",
        "Max      2062.470526\n",
        "NAs      0\n",
        "NA%      0.0%\n",
        "\n"
       ]
      }
     ],
     "prompt_number": 66
    },
    {
     "cell_type": "code",
     "collapsed": false,
     "input": [
      "medicare_partial_df = DataFrames.readtable(in_f, nrows=1)\n",
      "head(medicare_partial_df)"
     ],
     "language": "python",
     "metadata": {},
     "outputs": [
      {
       "metadata": {},
       "output_type": "pyout",
       "prompt_number": 69,
       "text": [
        "1x11 DataFrame:\n",
        "                                               APC Provider Id                         Provider Name  Provider Street Address Provider City Provider State Provider Zip Code Hospital Referral Region (HRR) Description Outpatient Services Average  Estimated Submitted Charges Average Total Payments\n",
        "[1,]    \"0012 - Level I Debridement & Destruction\"       10029 \"EAST ALABAMA MEDICAL CENTER AND SNF\" \"2000 PEPPERELL PARKWAY\"     \"OPELIKA\"           \"AL\"             36801                          \"AL - Birmingham\"                  23                               78.087                21.9104\n"
       ]
      }
     ],
     "prompt_number": 69
    },
    {
     "cell_type": "markdown",
     "metadata": {},
     "source": [
      "# Accessing and Modifying DFs:"
     ]
    },
    {
     "cell_type": "code",
     "collapsed": false,
     "input": [],
     "language": "python",
     "metadata": {},
     "outputs": []
    }
   ],
   "metadata": {}
  }
 ]
}