{
 "metadata": {
  "language": "Julia",
  "name": ""
 },
 "nbformat": 3,
 "nbformat_minor": 0,
 "worksheets": [
  {
   "cells": [
    {
     "cell_type": "markdown",
     "metadata": {},
     "source": [
      "Intention: Want to become familiar with the DataFrames in Julia.<br>\n",
      "http://juliastats.github.io/DataFrames.jl/introduction.html"
     ]
    },
    {
     "cell_type": "markdown",
     "metadata": {},
     "source": [
      "# Basics:"
     ]
    },
    {
     "cell_type": "code",
     "collapsed": false,
     "input": [
      "#Pkg.add(\"DataFrames\")\n",
      "using DataFrames"
     ],
     "language": "python",
     "metadata": {},
     "outputs": [],
     "prompt_number": 2
    },
    {
     "cell_type": "markdown",
     "metadata": {},
     "source": [
      "DataFrames gives a \"NA\" value representing missing values."
     ]
    },
    {
     "cell_type": "code",
     "collapsed": false,
     "input": [
      "println(DataFrames.NA)\n",
      "println(typeof(NA))"
     ],
     "language": "python",
     "metadata": {},
     "outputs": [
      {
       "output_type": "stream",
       "stream": "stdout",
       "text": [
        "NA\n"
       ]
      },
      {
       "output_type": "stream",
       "stream": "stdout",
       "text": [
        "NAtype\n"
       ]
      }
     ],
     "prompt_number": 23
    },
    {
     "cell_type": "code",
     "collapsed": false,
     "input": [
      "false && NA"
     ],
     "language": "python",
     "metadata": {},
     "outputs": [
      {
       "metadata": {},
       "output_type": "pyout",
       "prompt_number": 9,
       "text": [
        "false"
       ]
      }
     ],
     "prompt_number": 9
    },
    {
     "cell_type": "code",
     "collapsed": false,
     "input": [
      "true && NA"
     ],
     "language": "python",
     "metadata": {},
     "outputs": [
      {
       "metadata": {},
       "output_type": "pyout",
       "prompt_number": 10,
       "text": [
        "NA"
       ]
      }
     ],
     "prompt_number": 10
    },
    {
     "cell_type": "code",
     "collapsed": false,
     "input": [
      "true || NA"
     ],
     "language": "python",
     "metadata": {},
     "outputs": [
      {
       "metadata": {},
       "output_type": "pyout",
       "prompt_number": 11,
       "text": [
        "true"
       ]
      }
     ],
     "prompt_number": 11
    },
    {
     "cell_type": "code",
     "collapsed": false,
     "input": [
      "1 + NA"
     ],
     "language": "python",
     "metadata": {},
     "outputs": [
      {
       "metadata": {},
       "output_type": "pyout",
       "prompt_number": 12,
       "text": [
        "NA"
       ]
      }
     ],
     "prompt_number": 12
    },
    {
     "cell_type": "code",
     "collapsed": false,
     "input": [
      "NA*2"
     ],
     "language": "python",
     "metadata": {},
     "outputs": [
      {
       "metadata": {},
       "output_type": "pyout",
       "prompt_number": 13,
       "text": [
        "NA"
       ]
      }
     ],
     "prompt_number": 13
    },
    {
     "cell_type": "code",
     "collapsed": false,
     "input": [
      "NA^2"
     ],
     "language": "python",
     "metadata": {},
     "outputs": [
      {
       "metadata": {},
       "output_type": "pyout",
       "prompt_number": 15,
       "text": [
        "NA"
       ]
      }
     ],
     "prompt_number": 15
    },
    {
     "cell_type": "code",
     "collapsed": false,
     "input": [
      "NA/0"
     ],
     "language": "python",
     "metadata": {},
     "outputs": [
      {
       "metadata": {},
       "output_type": "pyout",
       "prompt_number": 16,
       "text": [
        "NA"
       ]
      },
      {
       "output_type": "stream",
       "stream": "stderr",
       "text": [
        "WARNING: contains(collection, item) is deprecated, use in(item, collection) instead"
       ]
      },
      {
       "output_type": "stream",
       "stream": "stderr",
       "text": [
        "\n",
        " in contains at reduce.jl:238\n"
       ]
      }
     ],
     "prompt_number": 16
    },
    {
     "cell_type": "markdown",
     "metadata": {},
     "source": [
      "Next up: There's an Array type as julia's array doesn't handle NAs.<br>\n",
      "Also, there are DataVector and DataMatrix"
     ]
    },
    {
     "cell_type": "code",
     "collapsed": false,
     "input": [
      "dv = DataArray([1, 3, 2, 5, 4])\n",
      "dv[1] = NA\n",
      "\n",
      "dv"
     ],
     "language": "python",
     "metadata": {},
     "outputs": [
      {
       "metadata": {},
       "output_type": "pyout",
       "prompt_number": 25,
       "text": [
        "5-element DataArray{Int64,1}:\n",
        "  NA\n",
        " 3  \n",
        " 2  \n",
        " 5  \n",
        " 4  "
       ]
      }
     ],
     "prompt_number": 25
    },
    {
     "cell_type": "code",
     "collapsed": false,
     "input": [
      "mean(dv)"
     ],
     "language": "python",
     "metadata": {},
     "outputs": [
      {
       "metadata": {},
       "output_type": "pyout",
       "prompt_number": 26,
       "text": [
        "NA"
       ]
      }
     ],
     "prompt_number": 26
    },
    {
     "cell_type": "code",
     "collapsed": false,
     "input": [
      "mean(removeNA(dv))"
     ],
     "language": "python",
     "metadata": {},
     "outputs": [
      {
       "metadata": {},
       "output_type": "pyout",
       "prompt_number": 27,
       "text": [
        "3.5"
       ]
      }
     ],
     "prompt_number": 27
    },
    {
     "cell_type": "code",
     "collapsed": false,
     "input": [
      "mean(failNA(dv))"
     ],
     "language": "python",
     "metadata": {},
     "outputs": [
      {
       "ename": "LoadError",
       "evalue": "no method NAException()\nat In[28]:1",
       "output_type": "pyerr",
       "traceback": [
        "no method NAException()\nat In[28]:1",
        " in failNA at /home/msouza/.julia/DataFrames/src/dataarray.jl:178"
       ]
      }
     ],
     "prompt_number": 28
    },
    {
     "cell_type": "code",
     "collapsed": false,
     "input": [
      "mean(replaceNA(dv, 123))"
     ],
     "language": "python",
     "metadata": {},
     "outputs": [
      {
       "metadata": {},
       "output_type": "pyout",
       "prompt_number": 29,
       "text": [
        "27.4"
       ]
      }
     ],
     "prompt_number": 29
    },
    {
     "cell_type": "code",
     "collapsed": false,
     "input": [
      "dm = DataArray([1.0 0.0; 0.0 1.0])"
     ],
     "language": "python",
     "metadata": {},
     "outputs": [
      {
       "metadata": {},
       "output_type": "pyout",
       "prompt_number": 30,
       "text": [
        "2x2 DataArray{Float64,2}:\n",
        " 1.0  0.0\n",
        " 0.0  1.0"
       ]
      }
     ],
     "prompt_number": 30
    },
    {
     "cell_type": "code",
     "collapsed": false,
     "input": [
      "dm[1,1] = NA"
     ],
     "language": "python",
     "metadata": {},
     "outputs": [
      {
       "metadata": {},
       "output_type": "pyout",
       "prompt_number": 31,
       "text": [
        "NA"
       ]
      }
     ],
     "prompt_number": 31
    },
    {
     "cell_type": "code",
     "collapsed": false,
     "input": [
      "dm*dm"
     ],
     "language": "python",
     "metadata": {},
     "outputs": [
      {
       "metadata": {},
       "output_type": "pyout",
       "prompt_number": 32,
       "text": [
        "2x2 DataArray{Float64,2}:\n",
        " NA   NA\n",
        " NA  1.0"
       ]
      }
     ],
     "prompt_number": 32
    },
    {
     "cell_type": "code",
     "collapsed": false,
     "input": [
      "removeNA(dm)"
     ],
     "language": "python",
     "metadata": {},
     "outputs": [
      {
       "metadata": {},
       "output_type": "pyout",
       "prompt_number": 33,
       "text": [
        "3-element Array{Float64,1}:\n",
        " 0.0\n",
        " 0.0\n",
        " 1.0"
       ]
      }
     ],
     "prompt_number": 33
    },
    {
     "cell_type": "markdown",
     "metadata": {},
     "source": [
      "DataFrame - Tabular data"
     ]
    },
    {
     "cell_type": "code",
     "collapsed": false,
     "input": [
      "df = DataFrame()\n",
      "df[\"A\"] = 1:4\n",
      "df"
     ],
     "language": "python",
     "metadata": {},
     "outputs": [
      {
       "metadata": {},
       "output_type": "pyout",
       "prompt_number": 34,
       "text": [
        "4x1 DataFrame:\n",
        "        A\n",
        "[1,]    1\n",
        "[2,]    2\n",
        "[3,]    3\n",
        "[4,]    4\n"
       ]
      }
     ],
     "prompt_number": 34
    },
    {
     "cell_type": "code",
     "collapsed": false,
     "input": [
      "df[\"B\"] = [\"B1\", \"B2\", \"B3\", \"B4\"]\n",
      "df"
     ],
     "language": "python",
     "metadata": {},
     "outputs": [
      {
       "metadata": {},
       "output_type": "pyout",
       "prompt_number": 35,
       "text": [
        "4x2 DataFrame:\n",
        "        A    B\n",
        "[1,]    1 \"B1\"\n",
        "[2,]    2 \"B2\"\n",
        "[3,]    3 \"B3\"\n",
        "[4,]    4 \"B4\"\n"
       ]
      }
     ],
     "prompt_number": 35
    },
    {
     "cell_type": "code",
     "collapsed": false,
     "input": [
      "df = DataFrame(A = 1:4, B = [\"M\", \"F\", \"F\", \"M\"])\n",
      "df"
     ],
     "language": "python",
     "metadata": {},
     "outputs": [
      {
       "metadata": {},
       "output_type": "pyout",
       "prompt_number": 36,
       "text": [
        "4x2 DataFrame:\n",
        "        A   B\n",
        "[1,]    1 \"M\"\n",
        "[2,]    2 \"F\"\n",
        "[3,]    3 \"F\"\n",
        "[4,]    4 \"M\"\n"
       ]
      }
     ],
     "prompt_number": 36
    },
    {
     "cell_type": "code",
     "collapsed": false,
     "input": [
      "size(df)"
     ],
     "language": "python",
     "metadata": {},
     "outputs": [
      {
       "metadata": {},
       "output_type": "pyout",
       "prompt_number": 37,
       "text": [
        "(4,2)"
       ]
      }
     ],
     "prompt_number": 37
    },
    {
     "cell_type": "code",
     "collapsed": false,
     "input": [
      "df[1:3, :]"
     ],
     "language": "python",
     "metadata": {},
     "outputs": [
      {
       "metadata": {},
       "output_type": "pyout",
       "prompt_number": 42,
       "text": [
        "3x2 DataFrame:\n",
        "        A   B\n",
        "[1,]    1 \"M\"\n",
        "[2,]    2 \"F\"\n",
        "[3,]    3 \"F\"\n"
       ]
      }
     ],
     "prompt_number": 42
    },
    {
     "cell_type": "code",
     "collapsed": false,
     "input": [
      "describe(df)"
     ],
     "language": "python",
     "metadata": {},
     "outputs": [
      {
       "output_type": "stream",
       "stream": "stdout",
       "text": [
        "A\n"
       ]
      },
      {
       "output_type": "stream",
       "stream": "stdout",
       "text": [
        "Min      1.0"
       ]
      },
      {
       "output_type": "stream",
       "stream": "stdout",
       "text": [
        "\n",
        "1st Qu.  1.75\n",
        "Median   2.5\n",
        "Mean     2.5\n",
        "3rd Qu.  3.25\n",
        "Max      4.0\n",
        "NAs      0\n",
        "NA%      0.0%\n",
        "\n",
        "B\n",
        "Length  4\n",
        "Type    ASCIIString\n",
        "NAs     0\n",
        "NA%     0.0%\n",
        "Unique  2"
       ]
      },
      {
       "output_type": "stream",
       "stream": "stdout",
       "text": [
        "\n",
        "\n"
       ]
      }
     ],
     "prompt_number": 44
    },
    {
     "cell_type": "code",
     "collapsed": false,
     "input": [
      "using RDatasets\n",
      "iris = RDatasets.data(\"datasets\", \"iris\")\n",
      "head(iris)"
     ],
     "language": "python",
     "metadata": {},
     "outputs": [
      {
       "metadata": {},
       "output_type": "pyout",
       "prompt_number": 47,
       "text": [
        "6x6 DataFrame:\n",
        "          Sepal.Length Sepal.Width Petal.Length Petal.Width  Species\n",
        "[1,]    1          5.1         3.5          1.4         0.2 \"setosa\"\n",
        "[2,]    2          4.9         3.0          1.4         0.2 \"setosa\"\n",
        "[3,]    3          4.7         3.2          1.3         0.2 \"setosa\"\n",
        "[4,]    4          4.6         3.1          1.5         0.2 \"setosa\"\n",
        "[5,]    5          5.0         3.6          1.4         0.2 \"setosa\"\n",
        "[6,]    6          5.4         3.9          1.7         0.4 \"setosa\"\n"
       ]
      }
     ],
     "prompt_number": 47
    },
    {
     "cell_type": "code",
     "collapsed": false,
     "input": [
      "describe(iris)"
     ],
     "language": "python",
     "metadata": {},
     "outputs": [
      {
       "output_type": "stream",
       "stream": "stdout",
       "text": [
        "\n",
        "Min      1.0"
       ]
      },
      {
       "output_type": "stream",
       "stream": "stdout",
       "text": [
        "\n",
        "1st Qu.  38.25\n",
        "Median   75.5\n",
        "Mean     75.5\n",
        "3rd Qu.  112.75\n",
        "Max      150.0\n",
        "NAs      0\n",
        "NA%      0.0%\n",
        "\n",
        "Sepal.Length\n",
        "Min      4.3\n",
        "1st Qu.  5.1\n",
        "Median   5.8\n",
        "Mean     5.843333333333332\n",
        "3rd Qu.  6.4\n",
        "Max      7.9\n",
        "NAs      0\n",
        "NA%      0.0%\n",
        "\n",
        "Sepal.Width\n",
        "Min      2.0\n",
        "1st Qu.  2.8\n",
        "Median   3.0\n",
        "Mean     3.0573333333333337\n",
        "3rd Qu.  3.3\n",
        "Max      4.4\n",
        "NAs      0\n",
        "NA%      0.0%\n",
        "\n",
        "Petal.Length\n",
        "Min      1.0\n",
        "1st Qu.  1.6\n",
        "Median   4.35\n",
        "Mean     3.758000000000001\n",
        "3rd Qu.  5.1\n",
        "Max      6.9\n",
        "NAs      0\n",
        "NA%      0.0%\n",
        "\n",
        "Petal.Width\n",
        "Min      0.1\n",
        "1st Qu.  0.3\n",
        "Median   1.3\n",
        "Mean     1.1993333333333331\n",
        "3rd Qu.  1.8\n",
        "Max      2.5\n",
        "NAs      0\n",
        "NA%      0.0%\n",
        "\n",
        "Species\n",
        "Length  150"
       ]
      },
      {
       "output_type": "stream",
       "stream": "stdout",
       "text": [
        "\n",
        "Type    UTF8String\n",
        "NAs     0\n",
        "NA%     0.0%\n",
        "Unique  3\n",
        "\n"
       ]
      }
     ],
     "prompt_number": 48
    },
    {
     "cell_type": "markdown",
     "metadata": {},
     "source": [
      "# I/O"
     ]
    },
    {
     "cell_type": "markdown",
     "metadata": {},
     "source": [
      "Let's get some data to play with."
     ]
    },
    {
     "cell_type": "code",
     "collapsed": false,
     "input": [
      "run(`wget http://www.cms.gov/Research-Statistics-Data-and-Systems/Statistics-Trends-and-Reports/Medicare-Provider-Charge-Data/Downloads/OPPS_APC_CSV.zip`)"
     ],
     "language": "python",
     "metadata": {},
     "outputs": [
      {
       "output_type": "stream",
       "stream": "stderr",
       "text": [
        "--2013-09-15 20:21:56--  http://www.cms.gov/Research-Statistics-Data-and-Systems/Statistics-Trends-and-Reports/Medicare-Provider-Charge-Data/Downloads/OPPS_APC_CSV.zip\n"
       ]
      },
      {
       "output_type": "stream",
       "stream": "stderr",
       "text": [
        "Resolving www.cms.gov (www.cms.gov)... 2607:f028:0:400:146:123:140:205, 146.123.140.205\n",
        "Connecting to www.cms.gov (www.cms.gov)|2607:f028:0:400:146:123:140:205|:80... "
       ]
      },
      {
       "output_type": "stream",
       "stream": "stderr",
       "text": [
        "connected.\n",
        "HTTP request sent, awaiting response... "
       ]
      },
      {
       "output_type": "stream",
       "stream": "stderr",
       "text": [
        "200 OK\n",
        "Length: 1967430 (1.9M) [application/x-zip-compressed]\n",
        "Saving to: `OPPS_APC_CSV.zip'\n",
        "\n",
        "     0K .."
       ]
      },
      {
       "output_type": "stream",
       "stream": "stderr",
       "text": [
        "........ .."
       ]
      },
      {
       "output_type": "stream",
       "stream": "stderr",
       "text": [
        "..."
       ]
      },
      {
       "output_type": "stream",
       "stream": "stderr",
       "text": [
        "..... .......... ...."
       ]
      },
      {
       "output_type": "stream",
       "stream": "stderr",
       "text": [
        "...... ..........  2%  128K 15s\n",
        "    50K .......... ......"
       ]
      },
      {
       "output_type": "stream",
       "stream": "stderr",
       "text": [
        ".... .......... .......... ..........  5%  436K 9s\n",
        "   100K ."
       ]
      },
      {
       "output_type": "stream",
       "stream": "stderr",
       "text": [
        "......... .......... .......... ....."
       ]
      },
      {
       "output_type": "stream",
       "stream": "stderr",
       "text": [
        "..... ..........  7%  280K 8s\n",
        "   150K .......... ....."
       ]
      },
      {
       "output_type": "stream",
       "stream": "stderr",
       "text": [
        "..... .......... .......... ........."
       ]
      },
      {
       "output_type": "stream",
       "stream": "stderr",
       "text": [
        ". 10%  319K 7s\n",
        "   200K .......... .......... ........."
       ]
      },
      {
       "output_type": "stream",
       "stream": "stderr",
       "text": [
        ". .......... .......... 13%  359K 7s\n",
        "   250K .........."
       ]
      },
      {
       "output_type": "stream",
       "stream": "stderr",
       "text": [
        " .......... .......... .......... ."
       ]
      },
      {
       "output_type": "stream",
       "stream": "stderr",
       "text": [
        "......... 15%  301K 6s\n",
        "   300K .......... .......... ..."
       ]
      },
      {
       "output_type": "stream",
       "stream": "stderr",
       "text": [
        "....... .......... .......... 18%  388K 6s\n",
        "   350K .."
       ]
      },
      {
       "output_type": "stream",
       "stream": "stderr",
       "text": [
        "........ .......... .......... ..."
       ]
      },
      {
       "output_type": "stream",
       "stream": "stderr",
       "text": [
        "....... .......... 20%  296K 5s\n",
        "   400K .......... ....."
       ]
      },
      {
       "output_type": "stream",
       "stream": "stderr",
       "text": [
        "..... .......... .......... .......... 23%  290K 5s\n",
        "   450K ."
       ]
      },
      {
       "output_type": "stream",
       "stream": "stderr",
       "text": [
        "......... .......... .......... ......"
       ]
      },
      {
       "output_type": "stream",
       "stream": "stderr",
       "text": [
        ".... .......... 26%  409K 5s\n",
        "   500K .......... ........."
       ]
      },
      {
       "output_type": "stream",
       "stream": "stderr",
       "text": [
        ". .......... .......... .......... 28%  287K 5s\n",
        "   550K ..."
       ]
      },
      {
       "output_type": "stream",
       "stream": "stderr",
       "text": [
        "....... .......... .......... ......"
       ]
      },
      {
       "output_type": "stream",
       "stream": "stderr",
       "text": [
        ".... .......... 31%  294K 5s\n",
        "   600K .......... .......... ...."
       ]
      },
      {
       "output_type": "stream",
       "stream": "stderr",
       "text": [
        "...... .......... ...."
       ]
      },
      {
       "output_type": "stream",
       "stream": "stderr",
       "text": [
        "...... 33%  335K 4s\n",
        "   650K .......... .......... .........."
       ]
      },
      {
       "output_type": "stream",
       "stream": "stderr",
       "text": [
        " .......... .......... 36%  280K 4s\n",
        "   700K .......... ....."
       ]
      },
      {
       "output_type": "stream",
       "stream": "stderr",
       "text": [
        "..... .......... .......... .......... 39%  429K 4s\n",
        "   750K ."
       ]
      },
      {
       "output_type": "stream",
       "stream": "stderr",
       "text": [
        "......... .......... .......... .."
       ]
      },
      {
       "output_type": "stream",
       "stream": "stderr",
       "text": [
        "........ .......... 41%  278K 4s\n",
        "   800K .......... .."
       ]
      },
      {
       "output_type": "stream",
       "stream": "stderr",
       "text": [
        "........ .......... .......... ..."
       ]
      },
      {
       "output_type": "stream",
       "stream": "stderr",
       "text": [
        "....... 44%  330K 4s\n",
        "   850K .......... .......... ...."
       ]
      },
      {
       "output_type": "stream",
       "stream": "stderr",
       "text": [
        "...... .......... .......... 46%  355K 3s\n",
        "   900K ...."
       ]
      },
      {
       "output_type": "stream",
       "stream": "stderr",
       "text": [
        "...... .......... .......... ........"
       ]
      },
      {
       "output_type": "stream",
       "stream": "stderr",
       "text": [
        ".. .......... 49%  283K 3s\n",
        "   950K .......... .......... ."
       ]
      },
      {
       "output_type": "stream",
       "stream": "stderr",
       "text": [
        "......... .......... .......... 52%  345K 3s\n",
        "  1000K ....."
       ]
      },
      {
       "output_type": "stream",
       "stream": "stderr",
       "text": [
        "..... .......... .......... ....."
       ]
      },
      {
       "output_type": "stream",
       "stream": "stderr",
       "text": [
        "..... .......... 54%  348K 3s\n",
        "  1050K .......... ........."
       ]
      },
      {
       "output_type": "stream",
       "stream": "stderr",
       "text": [
        ". .......... .......... .......... 57%  295K 3s\n",
        "  1100K .."
       ]
      },
      {
       "output_type": "stream",
       "stream": "stderr",
       "text": [
        "........ .......... .......... ......"
       ]
      },
      {
       "output_type": "stream",
       "stream": "stderr",
       "text": [
        ".... .......... 59%  407K 3s\n",
        "  1150K .......... .......... .."
       ]
      },
      {
       "output_type": "stream",
       "stream": "stderr",
       "text": [
        "........ .......... .......... 62%  282K 2s\n",
        "  1200K ........"
       ]
      },
      {
       "output_type": "stream",
       "stream": "stderr",
       "text": [
        ".. .......... .......... .......... .."
       ]
      },
      {
       "output_type": "stream",
       "stream": "stderr",
       "text": [
        "........ 65%  327K 2s\n",
        "  1250K .......... .......... .."
       ]
      },
      {
       "output_type": "stream",
       "stream": "stderr",
       "text": [
        "........ .......... .......... 67%  349K 2s\n",
        "  1300K .."
       ]
      },
      {
       "output_type": "stream",
       "stream": "stderr",
       "text": [
        "........ .......... .......... .."
       ]
      },
      {
       "output_type": "stream",
       "stream": "stderr",
       "text": [
        "........ .......... 70%  302K 2s\n",
        "  1350K .......... ......"
       ]
      },
      {
       "output_type": "stream",
       "stream": "stderr",
       "text": [
        ".... .......... .......... ........."
       ]
      },
      {
       "output_type": "stream",
       "stream": "stderr",
       "text": [
        ". 72%  299K 2s\n",
        "  1400K .......... .......... .......... ."
       ]
      },
      {
       "output_type": "stream",
       "stream": "stderr",
       "text": [
        "......... .......... 75%  380K 2s\n",
        "  1450K .......... ......"
       ]
      },
      {
       "output_type": "stream",
       "stream": "stderr",
       "text": [
        ".... .......... .......... .......... 78%  314K 1s"
       ]
      },
      {
       "output_type": "stream",
       "stream": "stderr",
       "text": [
        "\n",
        "  1500K .......... .......... .......... ..."
       ]
      },
      {
       "output_type": "stream",
       "stream": "stderr",
       "text": [
        "....... .......... 80%  305K 1s\n",
        "  1550K .......... ......."
       ]
      },
      {
       "output_type": "stream",
       "stream": "stderr",
       "text": [
        "... .......... .......... .......... 83%  369K 1s\n",
        "  1600K ..."
       ]
      },
      {
       "output_type": "stream",
       "stream": "stderr",
       "text": [
        "....... .......... .......... ......"
       ]
      },
      {
       "output_type": "stream",
       "stream": "stderr",
       "text": [
        ".... .......... 85%  310K 1s\n",
        "  1650K .......... .........."
       ]
      },
      {
       "output_type": "stream",
       "stream": "stderr",
       "text": [
        " .......... .......... .......... 88%  366K 1s\n",
        "  1700K ."
       ]
      },
      {
       "output_type": "stream",
       "stream": "stderr",
       "text": [
        "......... .......... .......... ."
       ]
      },
      {
       "output_type": "stream",
       "stream": "stderr",
       "text": [
        "......... .......... 91%  310K 1s\n",
        "  1750K .......... .."
       ]
      },
      {
       "output_type": "stream",
       "stream": "stderr",
       "text": [
        "........ .......... .......... ......."
       ]
      },
      {
       "output_type": "stream",
       "stream": "stderr",
       "text": [
        "... 93%  309K 0s\n",
        "  1800K .......... .......... .......... .."
       ]
      },
      {
       "output_type": "stream",
       "stream": "stderr",
       "text": [
        "........ .......... 96%  345K 0s\n",
        "  1850K .......... ......."
       ]
      },
      {
       "output_type": "stream",
       "stream": "stderr",
       "text": [
        "... .......... .......... .......... 98%  327K 0s\n",
        "  1900K ."
       ]
      },
      {
       "output_type": "stream",
       "stream": "stderr",
       "text": [
        "......... .......... .                               100%  311K=6.1s\n",
        "\n",
        "2013-09-15 20:22:03 (313 KB/s) - `OPPS_APC_CSV.zip' saved [1967430/1967430]\n",
        "\n"
       ]
      }
     ],
     "prompt_number": 52
    },
    {
     "cell_type": "code",
     "collapsed": false,
     "input": [
      "run(`unzip OPPS_APC_CSV`)"
     ],
     "language": "python",
     "metadata": {},
     "outputs": [
      {
       "output_type": "stream",
       "stream": "stdout",
       "text": [
        "Archive:  OPPS_APC_CSV.zip\n"
       ]
      },
      {
       "output_type": "stream",
       "stream": "stdout",
       "text": [
        "  inflating: Medicare_Provider_Charge_Outpatient_APC30_CY2011_v2.csv  \n"
       ]
      }
     ],
     "prompt_number": 53
    },
    {
     "cell_type": "code",
     "collapsed": false,
     "input": [
      "in_f = \"Medicare_Provider_Charge_Outpatient_APC30_CY2011_v2.csv\"\n"
     ],
     "language": "python",
     "metadata": {},
     "outputs": [
      {
       "metadata": {},
       "output_type": "pyout",
       "prompt_number": 62,
       "text": [
        "\"Medicare_Provider_Charge_Outpatient_APC30_CY2011_v2.csv\""
       ]
      }
     ],
     "prompt_number": 62
    },
    {
     "cell_type": "code",
     "collapsed": false,
     "input": [
      "medicare_df = DataFrames.readtable(in_f)\n",
      "head(medicare_df)"
     ],
     "language": "python",
     "metadata": {},
     "outputs": [
      {
       "metadata": {},
       "output_type": "pyout",
       "prompt_number": 65,
       "text": [
        "6x11 DataFrame:\n",
        "                                               APC Provider Id                                       Provider Name                  Provider Street Address Provider City Provider State Provider Zip Code Hospital Referral Region (HRR) Description Outpatient Services Average  Estimated Submitted Charges Average Total Payments\n",
        "[1,]    \"0012 - Level I Debridement & Destruction\"       10029               \"EAST ALABAMA MEDICAL CENTER AND SNF\"                 \"2000 PEPPERELL PARKWAY\"     \"OPELIKA\"           \"AL\"             36801                          \"AL - Birmingham\"                  23                               78.087                21.9104\n",
        "[2,]    \"0012 - Level I Debridement & Destruction\"       20024                \"CENTRAL PENINSULA GENERAL HOSPITAL\"                     \"250 HOSPITAL PLACE\"    \"SOLDOTNA\"           \"AK\"             99669                           \"AK - Anchorage\"                 994                               149.59                36.6239\n",
        "[3,]    \"0012 - Level I Debridement & Destruction\"       30064  \"UNIVERSITY OF ARIZONA MEDICAL CTR-UNIVERSIT, THE\"             \"1501 NORTH CAMPBELL AVENUE\"      \"TUCSON\"           \"AZ\"             85724                              \"AZ - Tucson\"                1765                              50.1354                14.5418\n",
        "[4,]    \"0012 - Level I Debridement & Destruction\"       30088                     \"BANNER BAYWOOD MEDICAL CENTER\"               \"6644 EAST BAYWOOD AVENUE\"        \"MESA\"           \"AZ\"             85206                                \"AZ - Mesa\"                  20                                112.4                 23.736\n",
        "[5,]    \"0012 - Level I Debridement & Destruction\"       30111 \"UNIVERSITY OF ARIZONA MEDICAL CTR- SOUTH CAM, THE\"                      \"2800 EAST AJO WAY\"      \"TUCSON\"           \"AZ\"             85713                              \"AZ - Tucson\"                  22                              152.045                16.5691\n",
        "[6,]    \"0012 - Level I Debridement & Destruction\"       40016                               \"UAMS MEDICAL CENTER\" \"4301 WEST MARKHAM STREET MAIL SLOT 612\" \"LITTLE ROCK\"           \"AR\"             72205                         \"AR - Little Rock\"                3166                              58.9547                13.5738\n"
       ]
      }
     ],
     "prompt_number": 65
    },
    {
     "cell_type": "code",
     "collapsed": false,
     "input": [
      "describe(medicare_df)"
     ],
     "language": "python",
     "metadata": {},
     "outputs": [
      {
       "output_type": "stream",
       "stream": "stdout",
       "text": [
        "APC\n"
       ]
      },
      {
       "output_type": "stream",
       "stream": "stdout",
       "text": [
        "Length  43372\n",
        "Type    UTF8String\n",
        "NAs     0\n",
        "NA%     0.0%\n",
        "Unique  30\n",
        "\n",
        "Provider Id\n",
        "Min      10001.0\n",
        "1st Qu.  140043.0\n",
        "Median   260091.0\n",
        "Mean     265410.9217467491\n",
        "3rd Qu.  390101.0\n",
        "Max      670061.0\n",
        "NAs      0\n",
        "NA%      0.0%\n",
        "\n",
        "Provider Name\n",
        "Length  43372\n",
        "Type    UTF8String\n",
        "NAs     0\n",
        "NA%     0.0%\n",
        "Unique  3007\n",
        "\n",
        "Provider Street Address\n",
        "Length  43372\n",
        "Type    UTF8String\n",
        "NAs     0\n",
        "NA%     0.0%\n",
        "Unique  3124\n",
        "\n",
        "Provider City\n",
        "Length  43372\n",
        "Type    UTF8String\n",
        "NAs     0\n",
        "NA%     0.0%\n",
        "Unique  1899\n",
        "\n",
        "Provider State\n",
        "Length  43372\n",
        "Type    UTF8String\n",
        "NAs     0\n",
        "NA%     0.0%\n",
        "Unique  50\n",
        "\n",
        "Provider Zip Code\n",
        "Min      1040.0\n",
        "1st Qu.  28645.0\n",
        "Median   46342.0\n",
        "Mean     49041.02243382828\n",
        "3rd Qu.  73101.0\n",
        "Max      99801.0\n",
        "NAs      0\n",
        "NA%      0.0%\n",
        "\n",
        "Hospital Referral Region (HRR) Description\n",
        "Length  43372\n",
        "Type    UTF8String\n",
        "NAs     0\n",
        "NA%     0.0%\n",
        "Unique  304\n",
        "\n",
        "Outpatient Services\n",
        "Min      11.0\n",
        "1st Qu.  42.0\n",
        "Median   128.0\n",
        "Mean     587.9809554551323\n",
        "3rd Qu.  347.0\n",
        "Max      219042.0\n",
        "NAs      0\n",
        "NA%      0.0%\n",
        "\n",
        "Average  Estimated Submitted Charges\n",
        "Min      12.64375\n",
        "1st Qu.  284.6104982\n",
        "Median   709.9951883\n",
        "Mean     1473.9940471990976\n",
        "3rd Qu.  2102.12134575\n",
        "Max      32105.63636\n",
        "NAs      0\n",
        "NA%      0.0%\n",
        "\n",
        "Average Total Payments\n",
        "Min      7.305"
       ]
      },
      {
       "output_type": "stream",
       "stream": "stdout",
       "text": [
        "\n",
        "1st Qu.  74.62771393\n",
        "Median   139.29856984999998\n",
        "Mean     265.4255857645218\n",
        "3rd Qu.  394.21131637499997\n",
        "Max      2062.470526\n",
        "NAs      0\n",
        "NA%      0.0%\n",
        "\n"
       ]
      }
     ],
     "prompt_number": 66
    },
    {
     "cell_type": "code",
     "collapsed": false,
     "input": [
      "medicare_partial_df = DataFrames.readtable(in_f, nrows=1)\n",
      "head(medicare_partial_df)"
     ],
     "language": "python",
     "metadata": {},
     "outputs": [
      {
       "metadata": {},
       "output_type": "pyout",
       "prompt_number": 69,
       "text": [
        "1x11 DataFrame:\n",
        "                                               APC Provider Id                         Provider Name  Provider Street Address Provider City Provider State Provider Zip Code Hospital Referral Region (HRR) Description Outpatient Services Average  Estimated Submitted Charges Average Total Payments\n",
        "[1,]    \"0012 - Level I Debridement & Destruction\"       10029 \"EAST ALABAMA MEDICAL CENTER AND SNF\" \"2000 PEPPERELL PARKWAY\"     \"OPELIKA\"           \"AL\"             36801                          \"AL - Birmingham\"                  23                               78.087                21.9104\n"
       ]
      }
     ],
     "prompt_number": 69
    },
    {
     "cell_type": "markdown",
     "metadata": {},
     "source": [
      "# Accessing and Modifying DFs:"
     ]
    },
    {
     "cell_type": "code",
     "collapsed": false,
     "input": [
      "df = DataFrame(A = 1:10, B = 2:2:20)"
     ],
     "language": "python",
     "metadata": {},
     "outputs": [
      {
       "metadata": {},
       "output_type": "pyout",
       "prompt_number": 70,
       "text": [
        "10x2 DataFrame:\n",
        "          A  B\n",
        "[1,]      1  2\n",
        "[2,]      2  4\n",
        "[3,]      3  6\n",
        "[4,]      4  8\n",
        "[5,]      5 10\n",
        "[6,]      6 12\n",
        "[7,]      7 14\n",
        "[8,]      8 16\n",
        "[9,]      9 18\n",
        "[10,]    10 20\n"
       ]
      }
     ],
     "prompt_number": 70
    },
    {
     "cell_type": "code",
     "collapsed": false,
     "input": [
      "df[1:3, [\"A\", \"B\"]]"
     ],
     "language": "python",
     "metadata": {},
     "outputs": [
      {
       "metadata": {},
       "output_type": "pyout",
       "prompt_number": 71,
       "text": [
        "3x2 DataFrame:\n",
        "        A B\n",
        "[1,]    1 2\n",
        "[2,]    2 4\n",
        "[3,]    3 6\n"
       ]
      }
     ],
     "prompt_number": 71
    },
    {
     "cell_type": "code",
     "collapsed": false,
     "input": [
      "df[1:3, [\"B\"]]"
     ],
     "language": "python",
     "metadata": {},
     "outputs": [
      {
       "metadata": {},
       "output_type": "pyout",
       "prompt_number": 72,
       "text": [
        "3x1 DataFrame:\n",
        "        B\n",
        "[1,]    2\n",
        "[2,]    4\n",
        "[3,]    6\n"
       ]
      }
     ],
     "prompt_number": 72
    },
    {
     "cell_type": "code",
     "collapsed": false,
     "input": [
      "df[3:, [\"B\"]]"
     ],
     "language": "python",
     "metadata": {},
     "outputs": [
      {
       "metadata": {},
       "output_type": "pyout",
       "prompt_number": 73,
       "text": [
        "8x1 DataFrame:\n",
        "         B\n",
        "[1,]     6\n",
        "[2,]     8\n",
        "[3,]    10\n",
        "[4,]    12\n",
        "[5,]    14\n",
        "[6,]    16\n",
        "[7,]    18\n",
        "[8,]    20\n"
       ]
      }
     ],
     "prompt_number": 73
    },
    {
     "cell_type": "markdown",
     "metadata": {},
     "source": [
      "Can use quoted expressions to evaluate which columns we want!"
     ]
    },
    {
     "cell_type": "code",
     "collapsed": false,
     "input": [
      "#df[:(A % 2 .== 0 && B % 4 .== 0), :] # Doesn't work?\n",
      "select(:((A % 2 .== 0) & (B % 3 .== 0)), df)"
     ],
     "language": "python",
     "metadata": {},
     "outputs": [
      {
       "metadata": {},
       "output_type": "pyout",
       "prompt_number": 93,
       "text": [
        "1x2 SubDataFrame:\n",
        "        A  B\n",
        "[1,]    6 12\n"
       ]
      }
     ],
     "prompt_number": 93
    },
    {
     "cell_type": "markdown",
     "metadata": {},
     "source": [
      "# Joins and Indexing:"
     ]
    },
    {
     "cell_type": "code",
     "collapsed": false,
     "input": [
      "names = DataFrame(ID = [1, 2], Name = [\"John Doe\", \"Jane Doe\"])"
     ],
     "language": "python",
     "metadata": {},
     "outputs": [
      {
       "metadata": {},
       "output_type": "pyout",
       "prompt_number": 95,
       "text": [
        "2x2 DataFrame:\n",
        "        ID       Name\n",
        "[1,]     1 \"John Doe\"\n",
        "[2,]     2 \"Jane Doe\"\n"
       ]
      }
     ],
     "prompt_number": 95
    },
    {
     "cell_type": "code",
     "collapsed": false,
     "input": [
      "jobs = DataFrame(ID = [1, 2], Job = [\"Lawyer\", \"Doctor\"])"
     ],
     "language": "python",
     "metadata": {},
     "outputs": [
      {
       "metadata": {},
       "output_type": "pyout",
       "prompt_number": 96,
       "text": [
        "2x2 DataFrame:\n",
        "        ID      Job\n",
        "[1,]     1 \"Lawyer\"\n",
        "[2,]     2 \"Doctor\"\n"
       ]
      }
     ],
     "prompt_number": 96
    },
    {
     "cell_type": "code",
     "collapsed": false,
     "input": [
      "full = join(names, jobs, on = \"ID\")"
     ],
     "language": "python",
     "metadata": {},
     "outputs": [
      {
       "metadata": {},
       "output_type": "pyout",
       "prompt_number": 97,
       "text": [
        "2x3 DataFrame:\n",
        "        ID       Name      Job\n",
        "[1,]     1 \"John Doe\" \"Lawyer\"\n",
        "[2,]     2 \"Jane Doe\" \"Doctor\"\n"
       ]
      }
     ],
     "prompt_number": 97
    },
    {
     "cell_type": "code",
     "collapsed": false,
     "input": [
      "full = join(names, jobs)"
     ],
     "language": "python",
     "metadata": {},
     "outputs": [
      {
       "metadata": {},
       "output_type": "pyout",
       "prompt_number": 98,
       "text": [
        "2x3 DataFrame:\n",
        "        ID       Name      Job\n",
        "[1,]     1 \"John Doe\" \"Lawyer\"\n",
        "[2,]     2 \"Jane Doe\" \"Doctor\"\n"
       ]
      }
     ],
     "prompt_number": 98
    },
    {
     "cell_type": "markdown",
     "metadata": {},
     "source": [
      "Indexing:"
     ]
    },
    {
     "cell_type": "code",
     "collapsed": false,
     "input": [
      "# Apparently not complete yet."
     ],
     "language": "python",
     "metadata": {},
     "outputs": [],
     "prompt_number": 100
    },
    {
     "cell_type": "markdown",
     "metadata": {},
     "source": [
      "# Split, Apply, Combine"
     ]
    },
    {
     "cell_type": "markdown",
     "metadata": {},
     "source": [
      "There's a function called \"by(dataframe, column to split on, function to apply)\".<br>\n",
      "This allows one to split data into groups, apply a function to each, then combine the results.<br>"
     ]
    },
    {
     "cell_type": "code",
     "collapsed": false,
     "input": [
      "iris = data(\"datasets\", \"iris\")\n",
      "\n",
      "by(iris, \"Species\", nrow)\n",
      "by(iris, \"Species\", df -> mean(df[\"Petal.Length\"]))\n",
      "by(iris, \"Species\", :(N = size(_DF, 1)))"
     ],
     "language": "python",
     "metadata": {},
     "outputs": [
      {
       "metadata": {},
       "output_type": "pyout",
       "prompt_number": 102,
       "text": [
        "3x2 DataFrame:\n",
        "             Species  N\n",
        "[1,]        \"setosa\" 50\n",
        "[2,]    \"versicolor\" 50\n",
        "[3,]     \"virginica\" 50\n"
       ]
      }
     ],
     "prompt_number": 102
    },
    {
     "cell_type": "code",
     "collapsed": false,
     "input": [
      "for subdf in groupby(iris, \"Species\")\n",
      "\tprintln(size(subdf, 1))\n",
      "end"
     ],
     "language": "python",
     "metadata": {},
     "outputs": [
      {
       "output_type": "stream",
       "stream": "stdout",
       "text": [
        "50\n"
       ]
      },
      {
       "output_type": "stream",
       "stream": "stdout",
       "text": [
        "50\n",
        "50\n"
       ]
      }
     ],
     "prompt_number": 103
    },
    {
     "cell_type": "markdown",
     "metadata": {},
     "source": [
      "# Reshaping/Pivoting"
     ]
    },
    {
     "cell_type": "code",
     "collapsed": false,
     "input": [
      "stack(iris, \"Sepal.Length\")"
     ],
     "language": "python",
     "metadata": {},
     "outputs": [
      {
       "metadata": {},
       "output_type": "pyout",
       "prompt_number": 105,
       "text": [
        "150x7 DataFrame:\n",
        "                variable value     Sepal.Width Petal.Length Petal.Width     Species\n",
        "[1,]      \"Sepal.Length\"   5.1   1         3.5          1.4         0.2    \"setosa\"\n",
        "[2,]      \"Sepal.Length\"   4.9   2         3.0          1.4         0.2    \"setosa\"\n",
        "[3,]      \"Sepal.Length\"   4.7   3         3.2          1.3         0.2    \"setosa\"\n",
        "[4,]      \"Sepal.Length\"   4.6   4         3.1          1.5         0.2    \"setosa\"\n",
        "[5,]      \"Sepal.Length\"   5.0   5         3.6          1.4         0.2    \"setosa\"\n",
        "[6,]      \"Sepal.Length\"   5.4   6         3.9          1.7         0.4    \"setosa\"\n",
        "[7,]      \"Sepal.Length\"   4.6   7         3.4          1.4         0.3    \"setosa\"\n",
        "[8,]      \"Sepal.Length\"   5.0   8         3.4          1.5         0.2    \"setosa\"\n",
        "[9,]      \"Sepal.Length\"   4.4   9         2.9          1.4         0.2    \"setosa\"\n",
        "[10,]     \"Sepal.Length\"   4.9  10         3.1          1.5         0.1    \"setosa\"\n",
        "[11,]     \"Sepal.Length\"   5.4  11         3.7          1.5         0.2    \"setosa\"\n",
        "[12,]     \"Sepal.Length\"   4.8  12         3.4          1.6         0.2    \"setosa\"\n",
        "[13,]     \"Sepal.Length\"   4.8  13         3.0          1.4         0.1    \"setosa\"\n",
        "[14,]     \"Sepal.Length\"   4.3  14         3.0          1.1         0.1    \"setosa\"\n",
        "[15,]     \"Sepal.Length\"   5.8  15         4.0          1.2         0.2    \"setosa\"\n",
        "[16,]     \"Sepal.Length\"   5.7  16         4.4          1.5         0.4    \"setosa\"\n",
        "[17,]     \"Sepal.Length\"   5.4  17         3.9          1.3         0.4    \"setosa\"\n",
        "[18,]     \"Sepal.Length\"   5.1  18         3.5          1.4         0.3    \"setosa\"\n",
        "[19,]     \"Sepal.Length\"   5.7  19         3.8          1.7         0.3    \"setosa\"\n",
        "[20,]     \"Sepal.Length\"   5.1  20         3.8          1.5         0.3    \"setosa\"\n",
        "  :\n",
        "[131,]    \"Sepal.Length\"   7.4 131         2.8          6.1         1.9 \"virginica\"\n",
        "[132,]    \"Sepal.Length\"   7.9 132         3.8          6.4         2.0 \"virginica\"\n",
        "[133,]    \"Sepal.Length\"   6.4 133         2.8          5.6         2.2 \"virginica\"\n",
        "[134,]    \"Sepal.Length\"   6.3 134         2.8          5.1         1.5 \"virginica\"\n",
        "[135,]    \"Sepal.Length\"   6.1 135         2.6          5.6         1.4 \"virginica\"\n",
        "[136,]    \"Sepal.Length\"   7.7 136         3.0          6.1         2.3 \"virginica\"\n",
        "[137,]    \"Sepal.Length\"   6.3 137         3.4          5.6         2.4 \"virginica\"\n",
        "[138,]    \"Sepal.Length\"   6.4 138         3.1          5.5         1.8 \"virginica\"\n",
        "[139,]    \"Sepal.Length\"   6.0 139         3.0          4.8         1.8 \"virginica\"\n",
        "[140,]    \"Sepal.Length\"   6.9 140         3.1          5.4         2.1 \"virginica\"\n",
        "[141,]    \"Sepal.Length\"   6.7 141         3.1          5.6         2.4 \"virginica\"\n",
        "[142,]    \"Sepal.Length\"   6.9 142         3.1          5.1         2.3 \"virginica\"\n",
        "[143,]    \"Sepal.Length\"   5.8 143         2.7          5.1         1.9 \"virginica\"\n",
        "[144,]    \"Sepal.Length\"   6.8 144         3.2          5.9         2.3 \"virginica\"\n",
        "[145,]    \"Sepal.Length\"   6.7 145         3.3          5.7         2.5 \"virginica\"\n",
        "[146,]    \"Sepal.Length\"   6.7 146         3.0          5.2         2.3 \"virginica\"\n",
        "[147,]    \"Sepal.Length\"   6.3 147         2.5          5.0         1.9 \"virginica\"\n",
        "[148,]    \"Sepal.Length\"   6.5 148         3.0          5.2         2.0 \"virginica\"\n",
        "[149,]    \"Sepal.Length\"   6.2 149         3.4          5.4         2.3 \"virginica\"\n",
        "[150,]    \"Sepal.Length\"   5.9 150         3.0          5.1         1.8 \"virginica\"\n"
       ]
      }
     ],
     "prompt_number": 105
    },
    {
     "cell_type": "markdown",
     "metadata": {},
     "source": [
      "# Streaming Data"
     ]
    },
    {
     "cell_type": "code",
     "collapsed": false,
     "input": [
      "iris = DataStream(data(\"datasets\", \"iris\"))\n",
      "for minibatch in iris\n",
      "\tprinttable(minibatch)\n",
      "end"
     ],
     "language": "python",
     "metadata": {},
     "outputs": [
      {
       "output_type": "stream",
       "stream": "stdout",
       "text": [
        "\""
       ]
      },
      {
       "output_type": "stream",
       "stream": "stdout",
       "text": [
        "\",\"Sepal.Length\",\"Sepal.Width\",\"Petal.Length\",\"Petal.Width\",\"Species\"\n",
        "1,5.1,3.5,1.4,0.2,\"setosa\"\n",
        "\"\",\"Sepal.Length\",\"Sepal.Width\",\"Petal.Length\",\"Petal.Width\",\"Species\"\n",
        "2,4.9,3.0,1.4,0.2,\"setosa\"\n",
        "\"\",\"Sepal.Length\",\"Sepal.Width\",\"Petal.Length\",\"Petal.Width\",\"Species\"\n",
        "3,4.7,3.2,1.3,0.2,\"setosa\"\n",
        "\"\",\"Sepal.Length\",\"Sepal.Width\",\"Petal.Length\",\"Petal.Width\",\"Species\"\n",
        "4,4.6,3.1,1.5,0.2,\"setosa\"\n",
        "\"\",\"Sepal.Length\",\"Sepal.Width\",\"Petal.Length\",\"Petal.Width\",\"Species\"\n",
        "5,5.0,3.6,1.4,0.2,\"setosa\"\n",
        "\"\",\"Sepal.Length\",\"Sepal.Width\",\"Petal.Length\",\"Petal.Width\",\"Species\"\n",
        "6,5.4,3.9,1.7,0.4,\"setosa\"\n",
        "\"\",\"Sepal.Length\",\"Sepal.Width\",\"Petal.Length\",\"Petal.Width\",\"Species\"\n",
        "7,4.6,3.4,1.4,0.3,\"setosa\"\n",
        "\"\",\"Sepal.Length\",\"Sepal.Width\",\"Petal.Length\",\"Petal.Width\",\"Species\"\n",
        "8,5.0,3.4,1.5,0.2,\"setosa\"\n",
        "\"\",\"Sepal.Length\",\"Sepal.Width\",\"Petal.Length\",\"Petal.Width\",\"Species\"\n",
        "9,4.4,2.9,1.4,0.2,\"setosa\"\n",
        "\"\",\"Sepal.Length\",\"Sepal.Width\",\"Petal.Length\",\"Petal.Width\",\"Species\"\n",
        "10,4.9,3.1,1.5,0.1,\"setosa\"\n",
        "\"\",\"Sepal.Length\",\"Sepal.Width\",\"Petal.Length\",\"Petal.Width\",\"Species\"\n",
        "11,5.4,3.7,1.5,0.2,\"setosa\"\n",
        "\"\",\"Sepal.Length\",\"Sepal.Width\",\"Petal.Length\",\"Petal.Width\",\"Species\"\n",
        "12,4.8,3.4,1.6,0.2,\"setosa\"\n",
        "\"\",\"Sepal.Length\",\"Sepal.Width\",\"Petal.Length\",\"Petal.Width\",\"Species\"\n",
        "13,4.8,3.0,1.4,0.1,\"setosa\"\n",
        "\"\",\"Sepal.Length\",\"Sepal.Width\",\"Petal.Length\",\"Petal.Width\",\"Species\"\n",
        "14,4.3,3.0,1.1,0.1,\"setosa\"\n",
        "\"\",\"Sepal.Length\",\"Sepal.Width\",\"Petal.Length\",\"Petal.Width\",\"Species\"\n",
        "15,5.8,4.0,1.2,0.2,\"setosa\"\n",
        "\"\",\"Sepal.Length\",\"Sepal.Width\",\"Petal.Length\",\"Petal.Width\",\"Species\"\n",
        "16,5.7,4.4,1.5,0.4,\"setosa\"\n",
        "\"\",\"Sepal.Length\",\"Sepal.Width\",\"Petal.Length\",\"Petal.Width\",\"Species\"\n",
        "17,5.4,3.9,1.3,0.4,\"setosa\"\n",
        "\"\",\"Sepal.Length\",\"Sepal.Width\",\"Petal.Length\",\"Petal.Width\",\"Species\"\n",
        "18,5.1,3.5,1.4,0.3,\"setosa\"\n",
        "\"\",\"Sepal.Length\",\"Sepal.Width\",\"Petal.Length\",\"Petal.Width\",\"Species\"\n",
        "19,5.7,3.8,1.7,0.3,\"setosa\"\n",
        "\"\",\"Sepal.Length\",\"Sepal.Width\",\"Petal.Length\",\"Petal.Width\",\"Species\"\n",
        "20,5.1,3.8,1.5,0.3,\"setosa\"\n",
        "\"\",\"Sepal.Length\",\"Sepal.Width\",\"Petal.Length\",\"Petal.Width\",\"Species\"\n",
        "21,5.4,3.4,1.7,0.2,\"setosa\"\n",
        "\"\",\"Sepal.Length\",\"Sepal.Width\",\"Petal.Length\",\"Petal.Width\",\"Species\"\n",
        "22,5.1,3.7,1.5,0.4,\"setosa\"\n",
        "\"\",\"Sepal.Length\",\"Sepal.Width\",\"Petal.Length\",\"Petal.Width\",\"Species\"\n",
        "23,4.6,3.6,1.0,0.2,\"setosa\"\n",
        "\"\",\"Sepal.Length\",\"Sepal.Width\",\"Petal.Length\",\"Petal.Width\",\"Species\"\n",
        "24,5.1,3.3,1.7,0.5,\"setosa\"\n",
        "\"\",\"Sepal.Length\",\"Sepal.Width\",\"Petal.Length\",\"Petal.Width\",\"Species\"\n",
        "25,4.8,3.4,1.9,0.2,\"setosa\"\n",
        "\"\",\"Sepal.Length\",\"Sepal.Width\",\"Petal.Length\",\"Petal.Width\",\"Species\"\n",
        "26,5.0,3.0,1.6,0.2,\"setosa\"\n",
        "\"\",\"Sepal.Length\",\"Sepal.Width\",\"Petal.Length\",\"Petal.Width\",\"Species\"\n",
        "27,5.0,3.4,1.6,0.4,\"setosa\"\n",
        "\"\",\"Sepal.Length\",\"Sepal.Width\",\"Petal.Length\",\"Petal.Width\",\"Species\"\n",
        "28,5.2,3.5,1.5,0.2,\"setosa\"\n",
        "\"\",\"Sepal.Length\",\"Sepal.Width\",\"Petal.Length\",\"Petal.Width\",\"Species\"\n",
        "29,5.2,3.4,1.4,0.2,\"setosa\"\n",
        "\"\",\"Sepal.Length\",\"Sepal.Width\",\"Petal.Length\",\"Petal.Width\",\"Species\"\n",
        "30,4.7,3.2,1.6,0.2,\"setosa\"\n",
        "\"\",\"Sepal.Length\",\"Sepal.Width\",\"Petal.Length\",\"Petal.Width\",\"Species\"\n",
        "31,4.8,3.1,1.6,0.2,\"setosa\"\n",
        "\"\",\"Sepal.Length\",\"Sepal.Width\",\"Petal.Length\",\"Petal.Width\",\"Species\"\n",
        "32,5.4,3.4,1.5,0.4,\"setosa\"\n",
        "\"\",\"Sepal.Length\",\"Sepal.Width\",\"Petal.Length\",\"Petal.Width\",\"Species\"\n",
        "33,5.2,4.1,1.5,0.1,\"setosa\"\n",
        "\"\",\"Sepal.Length\",\"Sepal.Width\",\"Petal.Length\",\"Petal.Width\",\"Species\"\n",
        "34,5.5,4.2,1.4,0.2,\"setosa\"\n",
        "\"\",\"Sepal.Length\",\"Sepal.Width\",\"Petal.Length\",\"Petal.Width\",\"Species\"\n",
        "35,4.9,3.1,1.5,0.2,\"setosa\"\n",
        "\"\",\"Sepal.Length\",\"Sepal.Width\",\"Petal.Length\",\"Petal.Width\",\"Species\"\n",
        "36,5.0,3.2,1.2,0.2,\"setosa\"\n",
        "\"\",\"Sepal.Length\",\"Sepal.Width\",\"Petal.Length\",\"Petal.Width\",\"Species\"\n",
        "37,5.5,3.5,1.3,0.2,\"setosa\"\n",
        "\"\",\"Sepal.Length\",\"Sepal.Width\",\"Petal.Length\",\"Petal.Width\",\"Species\"\n",
        "38,4.9,3.6,1.4,0.1,\"setosa\"\n",
        "\"\",\"Sepal.Length\",\"Sepal.Width\",\"Petal.Length\",\"Petal.Width\",\"Species\"\n",
        "39,4.4,3.0,1.3,0.2,\"setosa\"\n",
        "\"\",\"Sepal.Length\",\"Sepal.Width\",\"Petal.Length\",\"Petal.Width\",\"Species\"\n",
        "40,5.1,3.4,1.5,0.2,\"setosa\"\n",
        "\"\",\"Sepal.Length\",\"Sepal.Width\",\"Petal.Length\",\"Petal.Width\",\"Species\"\n",
        "41,5.0,3.5,1.3,0.3,\"setosa\"\n",
        "\"\",\"Sepal.Length\",\"Sepal.Width\",\"Petal.Length\",\"Petal.Width\",\"Species\"\n",
        "42,4.5,2.3,1.3,0.3,\"setosa\"\n",
        "\"\",\"Sepal.Length\",\"Sepal.Width\",\"Petal.Length\",\"Petal.Width\",\"Species\"\n",
        "43,4.4,3.2,1.3,0.2,\"setosa\"\n",
        "\"\",\"Sepal.Length\",\"Sepal.Width\",\"Petal.Length\",\"Petal.Width\",\"Species\"\n",
        "44,5.0,3.5,1.6,0.6,\"setosa\"\n",
        "\"\",\"Sepal.Length\",\"Sepal.Width\",\"Petal.Length\",\"Petal.Width\",\"Species\"\n",
        "45,5.1,3.8,1.9,0.4,\"setosa\"\n",
        "\"\",\"Sepal.Length\",\"Sepal.Width\",\"Petal.Length\",\"Petal.Width\",\"Species\"\n",
        "46,4.8,3.0,1.4,0.3,\"setosa\"\n",
        "\"\",\"Sepal.Length\",\"Sepal.Width\",\"Petal.Length\",\"Petal.Width\",\"Species\"\n",
        "47,5.1,3.8,1.6,0.2,\"setosa\"\n",
        "\"\",\"Sepal.Length\",\"Sepal.Width\",\"Petal.Length\",\"Petal.Width\",\"Species\"\n",
        "48,4.6,3.2,1.4,0.2,\"setosa\"\n",
        "\"\",\"Sepal.Length\",\"Sepal.Width\",\"Petal.Length\",\"Petal.Width\",\"Species\"\n",
        "49,5.3,3.7,1.5,0.2,\"setosa\"\n",
        "\"\",\"Sepal.Length\",\"Sepal.Width\",\"Petal.Length\",\"Petal.Width\",\"Species\"\n",
        "50,5.0,3.3,1.4,0.2,\"setosa\"\n",
        "\"\",\"Sepal.Length\",\"Sepal.Width\",\"Petal.Length\",\"Petal.Width\",\"Species\"\n",
        "51,7.0,3.2,4.7,1.4,\"versicolor\"\n",
        "\"\",\"Sepal.Length\",\"Sepal.Width\",\"Petal.Length\",\"Petal.Width\",\"Species\"\n",
        "52,6.4,3.2,4.5,1.5,\"versicolor\"\n",
        "\"\",\"Sepal.Length\",\"Sepal.Width\",\"Petal.Length\",\"Petal.Width\",\"Species\"\n",
        "53,6.9,3.1,4.9,1.5,\"versicolor\"\n",
        "\"\",\"Sepal.Length\",\"Sepal.Width\",\"Petal.Length\",\"Petal.Width\",\"Species\"\n",
        "54,5.5,2.3,4.0,1.3,\"versicolor\"\n",
        "\"\",\"Sepal.Length\",\"Sepal.Width\",\"Petal.Length\",\"Petal.Width\",\"Species\"\n",
        "55,6.5,2.8,4.6,1.5,\"versicolor\"\n",
        "\"\",\"Sepal.Length\",\"Sepal.Width\",\"Petal.Length\",\"Petal.Width\",\"Species\"\n",
        "56,5.7,2.8,4.5,1.3,\"versicolor\"\n",
        "\"\",\"Sepal.Length\",\"Sepal.Width\",\"Petal.Length\",\"Petal.Width\",\"Species\"\n",
        "57,6.3,3.3,4.7,1.6,\"versicolor\"\n",
        "\"\",\"Sepal.Length\",\"Sepal.Width\",\"Petal.Length\",\"Petal.Width\",\"Species\"\n",
        "58,4.9,2.4,3.3,1.0,\"versicolor\"\n",
        "\"\",\"Sepal.Length\",\"Sepal.Width\",\"Petal.Length\",\"Petal.Width\",\"Species\"\n",
        "59,6.6,2.9,4.6,1.3,\"versicolor\"\n",
        "\"\",\"Sepal.Length\",\"Sepal.Width\",\"Petal.Length\",\"Petal.Width\",\"Species\"\n",
        "60,5.2,2.7,3.9,1.4,\"versicolor\"\n",
        "\"\",\"Sepal.Length\",\"Sepal.Width\",\"Petal.Length\",\"Petal.Width\",\"Species\"\n",
        "61,5.0,2.0,3.5,1.0,\"versicolor\"\n",
        "\"\",\"Sepal.Length\",\"Sepal.Width\",\"Petal.Length\",\"Petal.Width\",\"Species\"\n",
        "62,5.9,3.0,4.2,1.5,\"versicolor\"\n",
        "\"\",\"Sepal.Length\",\"Sepal.Width\",\"Petal.Length\",\"Petal.Width\",\"Species\"\n",
        "63,6.0,2.2,4.0,1.0,\"versicolor\"\n",
        "\"\",\"Sepal.Length\",\"Sepal.Width\",\"Petal.Length\",\"Petal.Width\",\"Species\"\n",
        "64,6.1,2.9,4.7,1.4,\"versicolor\"\n",
        "\"\",\"Sepal.Length\",\"Sepal.Width\",\"Petal.Length\",\"Petal.Width\",\"Species\"\n",
        "65,5.6,2.9,3.6,1.3,\"versicolor\"\n",
        "\"\",\"Sepal.Length\",\"Sepal.Width\",\"Petal.Length\",\"Petal.Width\",\"Species\"\n",
        "66,6.7,3.1,4.4,1.4,\"versicolor\"\n",
        "\"\",\"Sepal.Length\",\"Sepal.Width\",\"Petal.Length\",\"Petal.Width\",\"Species\"\n",
        "67,5.6,3.0,4.5,1.5,\"versicolor\"\n",
        "\"\",\"Sepal.Length\",\"Sepal.Width\",\"Petal.Length\",\"Petal.Width\",\"Species\"\n",
        "68,5.8,2.7,4.1,1.0,\"versicolor\"\n",
        "\"\",\"Sepal.Length\",\"Sepal.Width\",\"Petal.Length\",\"Petal.Width\",\"Species\"\n",
        "69,6.2,2.2,4.5,1.5,\"versicolor\"\n",
        "\"\",\"Sepal.Length\",\"Sepal.Width\",\"Petal.Length\",\"Petal.Width\",\"Species\"\n",
        "70,5.6,2.5,3.9,1.1,\"versicolor\"\n",
        "\"\",\"Sepal.Length\",\"Sepal.Width\",\"Petal.Length\",\"Petal.Width\",\"Species\"\n",
        "71,5.9,3.2,4.8,1.8,\"versicolor\"\n",
        "\"\",\"Sepal.Length\",\"Sepal.Width\",\"Petal.Length\",\"Petal.Width\",\"Species\"\n",
        "72,6.1,2.8,4.0,1.3,\"versicolor\"\n",
        "\"\",\"Sepal.Length\",\"Sepal.Width\",\"Petal.Length\",\"Petal.Width\",\"Species\"\n",
        "73,6.3,2.5,4.9,1.5,\"versicolor\"\n",
        "\"\",\"Sepal.Length\",\"Sepal.Width\",\"Petal.Length\",\"Petal.Width\",\"Species\"\n",
        "74,6.1,2.8,4.7,1.2,\"versicolor\"\n",
        "\"\",\"Sepal.Length\",\"Sepal.Width\",\"Petal.Length\",\"Petal.Width\",\"Species\"\n",
        "75,6.4,2.9,4.3,1.3,\"versicolor\"\n",
        "\"\",\"Sepal.Length\",\"Sepal.Width\",\"Petal.Length\",\"Petal.Width\",\"Species\"\n",
        "76,6.6,3.0,4.4,1.4,\"versicolor\"\n",
        "\"\",\"Sepal.Length\",\"Sepal.Width\",\"Petal.Length\",\"Petal.Width\",\"Species\"\n",
        "77,6.8,2.8,4.8,1.4,\"versicolor\"\n",
        "\"\",\"Sepal.Length\",\"Sepal.Width\",\"Petal.Length\",\"Petal.Width\",\"Species\"\n",
        "78,6.7,3.0,5.0,1.7,\"versicolor\"\n",
        "\"\",\"Sepal.Length\",\"Sepal.Width\",\"Petal.Length\",\"Petal.Width\",\"Species\"\n",
        "79,6.0,2.9,4.5,1.5,\"versicolor\"\n",
        "\"\",\"Sepal.Length\",\"Sepal.Width\",\"Petal.Length\",\"Petal.Width\",\"Species\"\n",
        "80,5.7,2.6,3.5,1.0,\"versicolor\"\n",
        "\"\",\"Sepal.Length\",\"Sepal.Width\",\"Petal.Length\",\"Petal.Width\",\"Species\"\n",
        "81,5.5,2.4,3.8,1.1,\"versicolor\"\n",
        "\"\",\"Sepal.Length\",\"Sepal.Width\",\"Petal.Length\",\"Petal.Width\",\"Species\"\n",
        "82,5.5,2.4,3.7,1.0,\"versicolor\"\n",
        "\"\",\"Sepal.Length\",\"Sepal.Width\",\"Petal.Length\",\"Petal.Width\",\"Species\"\n",
        "83,5.8,2.7,3.9,1.2,\"versicolor\"\n",
        "\"\",\"Sepal.Length\",\"Sepal.Width\",\"Petal.Length\",\"Petal.Width\",\"Species\"\n",
        "84,6.0,2.7,5.1,1.6,\"versicolor\"\n",
        "\"\",\"Sepal.Length\",\"Sepal.Width\",\"Petal.Length\",\"Petal.Width\",\"Species\"\n",
        "85,5.4,3.0,4.5,1.5,\"versicolor\"\n",
        "\"\",\"Sepal.Length\",\"Sepal.Width\",\"Petal.Length\",\"Petal.Width\",\"Species\"\n",
        "86,6.0,3.4,4.5,1.6,\"versicolor\"\n",
        "\"\",\"Sepal.Length\",\"Sepal.Width\",\"Petal.Length\",\"Petal.Width\",\"Species\"\n",
        "87,6.7,3.1,4.7,1.5,\"versicolor\"\n",
        "\"\",\"Sepal.Length\",\"Sepal.Width\",\"Petal.Length\",\"Petal.Width\",\"Species\"\n",
        "88,6.3,2.3,4.4,1.3,\"versicolor\"\n",
        "\"\",\"Sepal.Length\",\"Sepal.Width\",\"Petal.Length\",\"Petal.Width\",\"Species\"\n",
        "89,5.6,3.0,4.1,1.3,\"versicolor\"\n",
        "\"\",\"Sepal.Length\",\"Sepal.Width\",\"Petal.Length\",\"Petal.Width\",\"Species\"\n",
        "90,5.5,2.5,4.0,1.3,\"versicolor\"\n",
        "\"\",\"Sepal.Length\",\"Sepal.Width\",\"Petal.Length\",\"Petal.Width\",\"Species\"\n",
        "91,5.5,2.6,4.4,1.2,\"versicolor\"\n",
        "\"\",\"Sepal.Length\",\"Sepal.Width\",\"Petal.Length\",\"Petal.Width\",\"Species\"\n",
        "92,6.1,3.0,4.6,1.4,\"versicolor\"\n",
        "\"\",\"Sepal.Length\",\"Sepal.Width\",\"Petal.Length\",\"Petal.Width\",\"Species\"\n",
        "93,5.8,2.6,4.0,1.2,\"versicolor\"\n",
        "\"\",\"Sepal.Length\",\"Sepal.Width\",\"Petal.Length\",\"Petal.Width\",\"Species\"\n",
        "94,5.0,2.3,3.3,1.0,\"versicolor\"\n",
        "\"\",\"Sepal.Length\",\"Sepal.Width\",\"Petal.Length\",\"Petal.Width\",\"Species\"\n",
        "95,5.6,2.7,4.2,1.3,\"versicolor\"\n",
        "\"\",\"Sepal.Length\",\"Sepal.Width\",\"Petal.Length\",\"Petal.Width\",\"Species\"\n",
        "96,5.7,3.0,4.2,1.2,\"versicolor\"\n",
        "\"\",\"Sepal.Length\",\"Sepal.Width\",\"Petal.Length\",\"Petal.Width\",\"Species\"\n",
        "97,5.7,2.9,4.2,1.3,\"versicolor\"\n",
        "\"\",\"Sepal.Length\",\"Sepal.Width\",\"Petal.Length\",\"Petal.Width\",\"Species\"\n",
        "98,6.2,2.9,4.3,1.3,\"versicolor\"\n",
        "\"\",\"Sepal.Length\",\"Sepal.Width\",\"Petal.Length\",\"Petal.Width\",\"Species\"\n",
        "99,5.1,2.5,3.0,1.1,\"versicolor\"\n",
        "\"\",\"Sepal.Length\",\"Sepal.Width\",\"Petal.Length\",\"Petal.Width\",\"Species\"\n",
        "100,5.7,2.8,4.1,1.3,\"versicolor\"\n",
        "\"\",\"Sepal.Length\",\"Sepal.Width\",\"Petal.Length\",\"Petal.Width\",\"Species\"\n",
        "101,6.3,3.3,6.0,2.5,\"virginica\"\n",
        "\"\",\"Sepal.Length\",\"Sepal.Width\",\"Petal.Length\",\"Petal.Width\",\"Species\"\n",
        "102,5.8,2.7,5.1,1.9,\"virginica\"\n",
        "\"\",\"Sepal.Length\",\"Sepal.Width\",\"Petal.Length\",\"Petal.Width\",\"Species\"\n",
        "103,7.1,3.0,5.9,2.1,\"virginica\"\n",
        "\"\",\"Sepal.Length\",\"Sepal.Width\",\"Petal.Length\",\"Petal.Width\",\"Species\"\n",
        "104,6.3,2.9,5.6,1.8,\"virginica\"\n",
        "\"\",\"Sepal.Length\",\"Sepal.Width\",\"Petal.Length\",\"Petal.Width\",\"Species\"\n",
        "105,6.5,3.0,5.8,2.2,\"virginica\"\n",
        "\"\",\"Sepal.Length\",\"Sepal.Width\",\"Petal.Length\",\"Petal.Width\",\"Species\"\n",
        "106,7.6,3.0,6.6,2.1,\"virginica\"\n",
        "\"\",\"Sepal.Length\",\"Sepal.Width\",\"Petal.Length\",\"Petal.Width\",\"Species\"\n",
        "107,4.9,2.5,4.5,1.7,\"virginica\"\n",
        "\"\",\"Sepal.Length\",\"Sepal.Width\",\"Petal.Length\",\"Petal.Width\",\"Species\"\n",
        "108,7.3,2.9,6.3,1.8,\"virginica\"\n",
        "\"\",\"Sepal.Length\",\"Sepal.Width\",\"Petal.Length\",\"Petal.Width\",\"Species\"\n",
        "109,6.7,2.5,5.8,1.8,\"virginica\"\n",
        "\"\",\"Sepal.Length\",\"Sepal.Width\",\"Petal.Length\",\"Petal.Width\",\"Species\"\n",
        "110,7.2,3.6,6.1,2.5,\"virginica\"\n",
        "\"\",\"Sepal.Length\",\"Sepal.Width\",\"Petal.Length\",\"Petal.Width\",\"Species\"\n",
        "111,6.5,3.2,5.1,2.0,\"virginica\"\n",
        "\"\",\"Sepal.Length\",\"Sepal.Width\",\"Petal.Length\",\"Petal.Width\",\"Species\"\n",
        "112,6.4,2.7,5.3,1.9,\"virginica\"\n",
        "\"\",\"Sepal.Length\",\"Sepal.Width\",\"Petal.Length\",\"Petal.Width\",\"Species\"\n",
        "113,6.8,3.0,5.5,2.1,\"virginica\"\n",
        "\"\",\"Sepal.Length\",\"Sepal.Width\",\"Petal.Length\",\"Petal.Width\",\"Species\"\n",
        "114,5.7,2.5,5.0,2.0,\"virginica\"\n",
        "\"\",\"Sepal.Length\",\"Sepal.Width\",\"Petal.Length\",\"Petal.Width\",\"Species\"\n",
        "115,5.8,2.8,5.1,2.4,\"virginica\"\n",
        "\"\",\"Sepal.Length\",\"Sepal.Width\",\"Petal.Length\",\"Petal.Width\",\"Species\"\n",
        "116,6.4,3.2,5.3,2.3,\"virginica\"\n",
        "\"\",\"Sepal.Length\",\"Sepal.Width\",\"Petal.Length\",\"Petal.Width\",\"Species\"\n",
        "117,6.5,3.0,5.5,1.8,\"virginica\"\n",
        "\"\",\"Sepal.Length\",\"Sepal.Width\",\"Petal.Length\",\"Petal.Width\",\"Species\"\n",
        "118,7.7,3.8,6.7,2.2,\"virginica\"\n",
        "\"\",\"Sepal.Length\",\"Sepal.Width\",\"Petal.Length\",\"Petal.Width\",\"Species\"\n",
        "119,7.7,2.6,6.9,2.3,\"virginica\"\n",
        "\"\",\"Sepal.Length\",\"Sepal.Width\",\"Petal.Length\",\"Petal.Width\",\"Species\"\n",
        "120,6.0,2.2,5.0,1.5,\"virginica\"\n",
        "\"\",\"Sepal.Length\",\"Sepal.Width\",\"Petal.Length\",\"Petal.Width\",\"Species\"\n",
        "121,6.9,3.2,5.7,2.3,\"virginica\"\n",
        "\"\",\"Sepal.Length\",\"Sepal.Width\",\"Petal.Length\",\"Petal.Width\",\"Species\"\n",
        "122,5.6,2.8,4.9,2.0,\"virginica\"\n",
        "\"\",\"Sepal.Length\",\"Sepal.Width\",\"Petal.Length\",\"Petal.Width\",\"Species\"\n",
        "123,7.7,2.8,6.7,2.0,\"virginica\"\n",
        "\"\",\"Sepal.Length\",\"Sepal.Width\",\"Petal.Length\",\"Petal.Width\",\"Species\"\n",
        "124,6.3,2.7,4.9,1.8,\"virginica\"\n",
        "\"\",\"Sepal.Length\",\"Sepal.Width\",\"Petal.Length\",\"Petal.Width\",\"Species\"\n",
        "125,6.7,3.3,5.7,2.1,\"virginica\"\n",
        "\"\",\"Sepal.Length\",\"Sepal.Width\",\"Petal.Length\",\"Petal.Width\",\"Species\"\n",
        "126,7.2,3.2,6.0,1.8,\"virginica\"\n",
        "\"\",\"Sepal.Length\",\"Sepal.Width\",\"Petal.Length\",\"Petal.Width\",\"Species\"\n",
        "127,6.2,2.8,4.8,1.8,\"virginica\"\n",
        "\"\",\"Sepal.Length\",\"Sepal.Width\",\"Petal.Length\",\"Petal.Width\",\"Species\"\n",
        "128,6.1,3.0,4.9,1.8,\"virginica\"\n",
        "\"\",\"Sepal.Length\",\"Sepal.Width\",\"Petal.Length\",\"Petal.Width\",\"Species\"\n",
        "129,6.4,2.8,5.6,2.1,\"virginica\"\n",
        "\"\",\"Sepal.Length\",\"Sepal.Width\",\"Petal.Length\",\"Petal.Width\",\"Species\"\n",
        "130,7.2,3.0,5.8,1.6,\"virginica\"\n",
        "\"\",\"Sepal.Length\",\"Sepal.Width\",\"Petal.Length\",\"Petal.Width\",\"Species\"\n",
        "131,7.4,2.8,6.1,1.9,\"virginica\"\n",
        "\"\",\"Sepal.Length\",\"Sepal.Width\",\"Petal.Length\",\"Petal.Width\",\"Species\"\n",
        "132,7.9,3.8,6.4,2.0,\"virginica\"\n",
        "\"\",\"Sepal.Length\",\"Sepal.Width\",\"Petal.Length\",\"Petal.Width\",\"Species\"\n",
        "133,6.4,2.8,5.6,2.2,\"virginica\"\n",
        "\"\",\"Sepal.Length\",\"Sepal.Width\",\"Petal.Length\",\"Petal.Width\",\"Species\"\n",
        "134,6.3,2.8,5.1,1.5,\"virginica\"\n",
        "\"\",\"Sepal.Length\",\"Sepal.Width\",\"Petal.Length\",\"Petal.Width\",\"Species\"\n",
        "135,6.1,2.6,5.6,1.4,\"virginica\"\n",
        "\"\",\"Sepal.Length\",\"Sepal.Width\",\"Petal.Length\",\"Petal.Width\",\"Species\"\n",
        "136,7.7,3.0,6.1,2.3,\"virginica\"\n",
        "\"\",\"Sepal.Length\",\"Sepal.Width\",\"Petal.Length\",\"Petal.Width\",\"Species\"\n",
        "137,6.3,3.4,5.6,2.4,\"virginica\"\n",
        "\"\",\"Sepal.Length\",\"Sepal.Width\",\"Petal.Length\",\"Petal.Width\",\"Species\"\n",
        "138,6.4,3.1,5.5,1.8,\"virginica\"\n",
        "\"\",\"Sepal.Length\",\"Sepal.Width\",\"Petal.Length\",\"Petal.Width\",\"Species\"\n",
        "139,6.0,3.0,4.8,1.8,\"virginica\"\n",
        "\"\",\"Sepal.Length\",\"Sepal.Width\",\"Petal.Length\",\"Petal.Width\",\"Species\"\n",
        "140,6.9,3.1,5.4,2.1,\"virginica\"\n",
        "\"\",\"Sepal.Length\",\"Sepal.Width\",\"Petal.Length\",\"Petal.Width\",\"Species\"\n",
        "141,6.7,3.1,5.6,2.4,\"virginica\"\n",
        "\"\",\"Sepal.Length\",\"Sepal.Width\",\"Petal.Length\",\"Petal.Width\",\"Species\"\n",
        "142,6.9,3.1,5.1,2.3,\"virginica\"\n",
        "\"\",\"Sepal.Length\",\"Sepal.Width\",\"Petal.Length\",\"Petal.Width\",\"Species\"\n",
        "143,5.8,2.7,5.1,1.9,\"virginica\"\n",
        "\"\",\"Sepal.Length\",\"Sepal.Width\",\"Petal.Length\",\"Petal.Width\",\"Species\"\n",
        "144,6.8,3.2,5.9,2.3,\"virginica\"\n",
        "\"\",\"Sepal.Length\",\"Sepal.Width\",\"Petal.Length\",\"Petal.Width\",\"Species\"\n",
        "145,6.7,3.3,5.7,2.5,\"virginica\"\n",
        "\"\",\"Sepal.Length\",\"Sepal.Width\",\"Petal.Length\",\"Petal.Width\",\"Species\"\n",
        "146,6.7,3.0,5.2,2.3,\"virginica\"\n",
        "\"\",\"Sepal.Length\",\"Sepal.Width\",\"Petal.Length\",\"Petal.Width\",\"Species\"\n",
        "147,6.3,2.5,5.0,1.9,\"virginica\"\n",
        "\"\",\"Sepal.Length\",\"Sepal.Width\",\"Petal.Length\",\"Petal.Width\",\"Species\"\n",
        "148,6.5,3.0,5.2,2.0,\"virginica\"\n",
        "\"\",\"Sepal.Length\",\"Sepal.Width\",\"Petal.Length\",\"Petal.Width\",\"Species\"\n",
        "149,6.2,3.4,5.4,2.3,\"virginica\"\n",
        "\"\",\"Sepal.Length\",\"Sepal.Width\",\"Petal.Length\",\"Petal.Width\",\"Species\"\n",
        "150,5.9,3.0,5.1,1.8,\"virginica\"\n"
       ]
      }
     ],
     "prompt_number": 110
    },
    {
     "cell_type": "markdown",
     "metadata": {},
     "source": [
      "# Formula, ModelFrame, ModelMatrix"
     ]
    },
    {
     "cell_type": "code",
     "collapsed": false,
     "input": [
      "fm = Formula(:(Z ~ X + Y))"
     ],
     "language": "python",
     "metadata": {},
     "outputs": [
      {
       "metadata": {},
       "output_type": "pyout",
       "prompt_number": 111,
       "text": [
        "Formula: Z ~ :(+(X,Y))"
       ]
      }
     ],
     "prompt_number": 111
    },
    {
     "cell_type": "code",
     "collapsed": false,
     "input": [
      "df = DataFrame(X = randn(10), Y = randn(10), Z = randn(10))\n",
      "mf = ModelFrame(Formula(:(Z ~ X + Y)), df)"
     ],
     "language": "python",
     "metadata": {},
     "outputs": [
      {
       "metadata": {},
       "output_type": "pyout",
       "prompt_number": 112,
       "text": [
        "ModelFrame(10x3 DataFrame:\n",
        "                 Z          X         Y\n",
        "[1,]      -1.63531    2.19005  -1.19585\n",
        "[2,]       1.49932   0.258351  0.422282\n",
        "[3,]      0.594113   0.693333   1.16493\n",
        "[4,]     -0.127448   0.396025 -0.319405\n",
        "[5,]      -1.30777  -0.279675 0.0619922\n",
        "[6,]      0.390753    -1.8563  -1.20378\n",
        "[7,]     -0.565581  -0.782588   1.75229\n",
        "[8,]      0.677994   -1.53333   2.02178\n",
        "[9,]     -0.848164 -0.0321511  0.153137\n",
        "[10,]     0.743518   -1.80507  0.733765\n",
        ",Terms({:X,:Y},{:Z,:X,:Y},3x3 Array{Int8,2}:\n",
        " 1  0  0\n",
        " 0  1  0\n",
        " 0  0  1,[1,1,1],true,true),[true,true,true,true,true,true,true,true,true,true])"
       ]
      }
     ],
     "prompt_number": 112
    },
    {
     "cell_type": "code",
     "collapsed": false,
     "input": [
      "mm = ModelMatrix(ModelFrame(:(Z ~ X + Y), df))"
     ],
     "language": "python",
     "metadata": {},
     "outputs": [
      {
       "metadata": {},
       "output_type": "pyout",
       "prompt_number": 113,
       "text": [
        "ModelMatrix{Float64}(10x3 Array{Float64,2}:\n",
        " 1.0   2.19005    -1.19585  \n",
        " 1.0   0.258351    0.422282 \n",
        " 1.0   0.693333    1.16493  \n",
        " 1.0   0.396025   -0.319405 \n",
        " 1.0  -0.279675    0.0619922\n",
        " 1.0  -1.8563     -1.20378  \n",
        " 1.0  -0.782588    1.75229  \n",
        " 1.0  -1.53333     2.02178  \n",
        " 1.0  -0.0321511   0.153137 \n",
        " 1.0  -1.80507     0.733765 ,[0,1,2])"
       ]
      }
     ],
     "prompt_number": 113
    },
    {
     "cell_type": "code",
     "collapsed": false,
     "input": [],
     "language": "python",
     "metadata": {},
     "outputs": []
    }
   ],
   "metadata": {}
  }
 ]
}